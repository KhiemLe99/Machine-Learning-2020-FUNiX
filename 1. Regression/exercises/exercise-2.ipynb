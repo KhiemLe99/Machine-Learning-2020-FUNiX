{
 "cells": [
  {
   "cell_type": "markdown",
   "metadata": {},
   "source": [
    "# Ridge Regression (gradient descent)"
   ]
  },
  {
   "cell_type": "markdown",
   "metadata": {},
   "source": [
    "In this notebook, you will implement ridge regression via gradient descent. You will:\n",
    "* Extract the DataFrame values as Numpy array\n",
    "* Write a Numpy function to compute the derivative of the regression weights with respect to a single feature\n",
    "* Write gradient descent function to compute the regression weights given an initial weight vector, step size, tolerance, and L2 penalty"
   ]
  },
  {
   "cell_type": "markdown",
   "metadata": {},
   "source": [
    "## Business as usual"
   ]
  },
  {
   "cell_type": "code",
   "execution_count": 20,
   "metadata": {},
   "outputs": [],
   "source": [
    "import numpy as np\n",
    "import pandas as pd\n",
    "import matplotlib.pyplot as plt\n",
    "from sklearn.model_selection import train_test_split\n",
    "%matplotlib inline"
   ]
  },
  {
   "cell_type": "markdown",
   "metadata": {},
   "source": [
    "## Load in house sales data\n",
    "\n",
    "Dataset is from house sales in King County, the region where the city of Seattle, WA is located. Surprised?"
   ]
  },
  {
   "cell_type": "code",
   "execution_count": 2,
   "metadata": {},
   "outputs": [],
   "source": [
    "full_data = pd.read_csv(\"../dataset/house.csv\", index_col=0)"
   ]
  },
  {
   "cell_type": "markdown",
   "metadata": {},
   "source": [
    "If we want to do any \"feature engineering\" like creating new features or adjusting existing ones we interact directly with the DataFrame as seen in Lab 2. For this notebook, however, we will work with the existing features."
   ]
  },
  {
   "cell_type": "markdown",
   "metadata": {},
   "source": [
    "## Import useful functions from previous notebook"
   ]
  },
  {
   "cell_type": "markdown",
   "metadata": {},
   "source": [
    "As in a previous Lab, we convert the DataFrame into a 2D Numpy matrix. Copy and paste `get_numpy_data()` from the notebook of Lab 2 (*lab-2.ipynb*)."
   ]
  },
  {
   "cell_type": "code",
   "execution_count": 3,
   "metadata": {},
   "outputs": [],
   "source": [
    "def get_numpy_data(data, features_title, output_title):\n",
    "    if('constant' not in data):\n",
    "        data['constant'] = 1 \n",
    "    features_title = ['constant'] + features_title \n",
    "    features_columns = data[features_title]\n",
    "    feature_matrix = features_columns.values\n",
    "    output_column = data[output_title]\n",
    "    output_array = output_column.values\n",
    "    return(feature_matrix, output_array)"
   ]
  },
  {
   "cell_type": "markdown",
   "metadata": {},
   "source": [
    "Also, copy and paste the `predict_output()` function to compute the predictions for an entire matrix of features given the matrix and the weights:"
   ]
  },
  {
   "cell_type": "code",
   "execution_count": 4,
   "metadata": {},
   "outputs": [],
   "source": [
    "def predict_output(feature_matrix, weights):\n",
    "    predictions = np.dot(feature_matrix, weights)\n",
    "    return(predictions)"
   ]
  },
  {
   "cell_type": "markdown",
   "metadata": {},
   "source": [
    "## Computing the Derivative"
   ]
  },
  {
   "cell_type": "markdown",
   "metadata": {},
   "source": [
    "We are now going to move to computing the derivative of the regression cost function. Recall that the cost function is the sum over the data points of the squared difference between an observed output and a predicted output, plus the L2 penalty term.\n",
    "<!-- ``` Cost(w) = SUM[ (prediction - output)^2 ] + l2_penalty*(w[0]^2 + w[1]^2 + ... + w[k]^2). ``` This is commented out. -->\n",
    "$ cost_w = \\sum (prediction - output)^2 + l2\\_penalty * \\sum_i w_i^2 $ (including $w_0$ which is the bias)\n",
    "\n",
    "Since the derivative of a sum is the sum of the derivatives, we can take the derivative of the first part (the RSS) as we did in the notebook for the unregularized case in Week 2 and add the derivative of the regularization part.  As we saw, the derivative of the RSS with respect to $w_i$(`w[i]`) can be written as: \n",
    "<!-- ``` 2*SUM[ error*[feature_i] ]. ``` -->\n",
    "$ 2 * \\sum error * feature_i $\n",
    "\n",
    "The derivative of the regularization term with respect to $w_i$ is:\n",
    "<!-- ``` 2*l2_penalty*w[i]. ``` -->\n",
    "$ 2 * l2\\_penalty * w_i $\n",
    "\n",
    "Summing both, we get\n",
    "<!-- ``` 2*SUM[ error*[feature_i] ] + 2*l2_penalty*w[i]. ``` -->\n",
    "$ 2 * \\sum error * feature_i + 2 * l2\\_penalty * w_i $\n",
    "\n",
    "That is, the derivative for the weight for feature i is the sum (over data points) of 2 times the product of the error and the feature itself, plus `2*l2_penalty*w[i]`. \n",
    "\n",
    "**We will not regularize the constant.**  Thus, in the case of the constant, the derivative is just twice the sum of the errors (without the `2*l2_penalty*w[0]` term).\n",
    "\n",
    "Recall that twice the sum of the product of two vectors is just twice the dot product of the two vectors. Therefore the derivative for the weight for $feature_i$ is just two times the dot product between the values of $feature_i$ and the current errors, plus $2*l2\\_penalty*w_i$.\n",
    "\n",
    "With this in mind complete the following derivative function which computes the derivative of the weight given the value of the feature (over all data points) and the errors (over all data points).  To decide when to we are dealing with the constant (so we don't regularize it) we added the extra parameter to the call `feature_is_constant` which you should set to `True` when computing the derivative of the constant and `False` otherwise."
   ]
  },
  {
   "cell_type": "code",
   "execution_count": 5,
   "metadata": {},
   "outputs": [],
   "source": [
    "def feature_derivative_ridge(errors, feature, weight, l2_penalty, feature_is_constant):\n",
    "    # If feature_is_constant is True, derivative is twice the dot product of errors and feature\n",
    "    if feature_is_constant == True:\n",
    "        derivative = 2 * np.dot(errors, feature)\n",
    "    # Otherwise, derivative is twice the dot product plus 2*l2_penalty*weight\n",
    "    else:\n",
    "        derivative = 2 * np.dot(errors, feature) + 2*(l2_penalty*weight)\n",
    "    return derivative"
   ]
  },
  {
   "cell_type": "markdown",
   "metadata": {},
   "source": [
    "To test your feature derivartive run the following:"
   ]
  },
  {
   "cell_type": "code",
   "execution_count": 6,
   "metadata": {},
   "outputs": [
    {
     "name": "stdout",
     "output_type": "stream",
     "text": [
      "-56554166815950.0\n",
      "-56554166815950.0\n",
      "-------\n",
      "-22446749330.0\n",
      "-22446749330.0\n"
     ]
    }
   ],
   "source": [
    "(example_features, example_output) = get_numpy_data(full_data, ['sqft_living'], 'price') \n",
    "my_weights = np.array([1., 10.])\n",
    "test_predictions = predict_output(example_features, my_weights) \n",
    "errors = test_predictions - example_output # prediction errors\n",
    "\n",
    "# next two lines should print the same values\n",
    "print(feature_derivative_ridge(errors, example_features[:,1], my_weights[1], 1, False))\n",
    "print(np.sum(errors*example_features[:,1])*2+20.)\n",
    "\n",
    "print(\"-------\")\n",
    "# next two lines should print the same values\n",
    "print(feature_derivative_ridge(errors, example_features[:,0], my_weights[0], 1, True))\n",
    "print(np.sum(errors)*2.0)"
   ]
  },
  {
   "cell_type": "markdown",
   "metadata": {},
   "source": [
    "# Gradient Descent"
   ]
  },
  {
   "cell_type": "markdown",
   "metadata": {},
   "source": [
    "Now we will write a function that performs a gradient descent. The basic premise is simple. Given a starting point we update the current weights by moving in the negative gradient direction. Recall that the gradient is the direction of *increase* and therefore the negative gradient is the direction of *decrease* and we're trying to *minimize* a cost function. \n",
    "\n",
    "The amount by which we move in the negative gradient *direction*  is called the 'step size'. We stop when we are 'sufficiently close' to the optimum. Unlike in Week 2, this time we will set a **maximum number of iterations** and take gradient steps until we reach this maximum number. If no maximum number is supplied, the maximum should be set 100 by default. (Use default parameter values in Python.)\n",
    "\n",
    "With this in mind, complete the following gradient descent function below using your derivative function above. For each step in the gradient descent, we update the weight for each feature before computing our stopping criteria."
   ]
  },
  {
   "cell_type": "code",
   "execution_count": 18,
   "metadata": {},
   "outputs": [],
   "source": [
    "def ridge_regression_gradient_descent(feature_matrix, output, initial_weights, step_size, l2_penalty, max_iterations=100):\n",
    "    print('Starting gradient descent with l2_penalty = ' + str(l2_penalty))\n",
    "    \n",
    "    weights = np.array(initial_weights) # make sure it's a numpy array\n",
    "    iteration = 0 # iteration counter\n",
    "    print_frequency = 1  # for adjusting frequency of debugging output\n",
    "    \n",
    "    #while not reached maximum number of iterations:\n",
    "    while max_iterations > 0:\n",
    "        iteration += 1  # increment iteration counter\n",
    "        ### === code section for adjusting frequency of debugging output. ===\n",
    "        if iteration == 10:\n",
    "            print_frequency = 10\n",
    "        if iteration == 100:\n",
    "            print_frequency = 100\n",
    "        if iteration%print_frequency==0:\n",
    "            print('Iteration = ' + str(iteration))\n",
    "        ### === end code section ===\n",
    "        \n",
    "        # compute the predictions based on feature_matrix and weights using your predict_output() function\n",
    "        predictions = predict_output(feature_matrix, weights)\n",
    "        # compute the errors as predictions - output\n",
    "        errors = predictions - output\n",
    "        # from time to time, print the value of the cost function\n",
    "        if iteration%print_frequency==0:\n",
    "            print('Cost function = ', str(np.dot(errors,errors) + l2_penalty*(np.dot(weights,weights) - weights[0]**2)))\n",
    "        \n",
    "        for i in range(len(weights)): # loop over each weight\n",
    "            # Recall that feature_matrix[:,i] is the feature column associated with weights[i]\n",
    "            # compute the derivative for weight[i].\n",
    "            #(Remember: when i=0, you are computing the derivative of the constant!)\n",
    "            if i == 0:\n",
    "                feature_is_constant = True\n",
    "            else:\n",
    "                feature_is_constant = False\n",
    "            derivative = feature_derivative_ridge(errors, feature_matrix[:,i], weights[i], l2_penalty, feature_is_constant)\n",
    "            # subtract the step size times the derivative from the current weight\n",
    "            weights[i] = weights[i] - (step_size * derivative)\n",
    "        max_iterations -= 1 \n",
    "    print('Done with gradient descent at iteration ', iteration)\n",
    "    print('Learned weights = ', str(weights))\n",
    "    return weights"
   ]
  },
  {
   "cell_type": "markdown",
   "metadata": {},
   "source": [
    "## Visualizing effect of L2 penalty"
   ]
  },
  {
   "cell_type": "markdown",
   "metadata": {},
   "source": [
    "The L2 penalty gets its name because it causes weights to have small L2 norms than otherwise. Let's see how large weights get penalized. Let us consider a simple model with 1 feature:"
   ]
  },
  {
   "cell_type": "code",
   "execution_count": 12,
   "metadata": {},
   "outputs": [],
   "source": [
    "simple_features = ['sqft_living']\n",
    "my_output = 'price'"
   ]
  },
  {
   "cell_type": "markdown",
   "metadata": {},
   "source": [
    "Let us split the dataset into training set and test set. Make sure to use `seed=0`:"
   ]
  },
  {
   "cell_type": "code",
   "execution_count": 13,
   "metadata": {},
   "outputs": [],
   "source": [
    "train_data, test_data = train_test_split(full_data, train_size=0.8, test_size=0.2, random_state=0)"
   ]
  },
  {
   "cell_type": "markdown",
   "metadata": {},
   "source": [
    "In this part, we will only use `'sqft_living'` to predict `'price'`. Use the `get_numpy_data` function to get a Numpy versions of your data with only this feature, for both the `train_data` and the `test_data`. "
   ]
  },
  {
   "cell_type": "code",
   "execution_count": 14,
   "metadata": {},
   "outputs": [],
   "source": [
    "(simple_feature_matrix, output) = get_numpy_data(train_data, simple_features, my_output)\n",
    "(simple_test_feature_matrix, test_output) = get_numpy_data(test_data, simple_features, my_output)"
   ]
  },
  {
   "cell_type": "markdown",
   "metadata": {},
   "source": [
    "Let's set the parameters for our optimization:"
   ]
  },
  {
   "cell_type": "code",
   "execution_count": 15,
   "metadata": {},
   "outputs": [],
   "source": [
    "initial_weights = np.array([0., 0.])\n",
    "step_size = 1e-12\n",
    "max_iterations=1000"
   ]
  },
  {
   "cell_type": "markdown",
   "metadata": {},
   "source": [
    "First, let's consider no regularization.  Set the `l2_penalty` to `0.0` and run your ridge regression algorithm to learn the weights of your model.  Call your weights:\n",
    "\n",
    "`simple_weights_0_penalty`\n",
    "\n",
    "we'll use them later."
   ]
  },
  {
   "cell_type": "code",
   "execution_count": 19,
   "metadata": {},
   "outputs": [
    {
     "name": "stdout",
     "output_type": "stream",
     "text": [
      "Starting gradient descent with l2_penalty = 0.0\n",
      "Iteration = 1\n",
      "Cost function =  7492352980693717.0\n",
      "Iteration = 2\n",
      "Cost function =  5443732834808187.0\n",
      "Iteration = 3\n",
      "Cost function =  4063835449939597.5\n",
      "Iteration = 4\n",
      "Cost function =  3134372368846771.0\n",
      "Iteration = 5\n",
      "Cost function =  2508310149584062.5\n",
      "Iteration = 6\n",
      "Cost function =  2086610880007097.8\n",
      "Iteration = 7\n",
      "Cost function =  1802565191742773.5\n",
      "Iteration = 8\n",
      "Cost function =  1611239384833331.0\n",
      "Iteration = 9\n",
      "Cost function =  1482367284659914.0\n",
      "Iteration = 10\n",
      "Cost function =  1395562381166147.0\n",
      "Iteration = 20\n",
      "Cost function =  1219885511283038.8\n",
      "Iteration = 30\n",
      "Cost function =  1216508222454018.5\n",
      "Iteration = 40\n",
      "Cost function =  1216443295255467.0\n",
      "Iteration = 50\n",
      "Cost function =  1216442046328817.8\n",
      "Iteration = 60\n",
      "Cost function =  1216442021580795.8\n",
      "Iteration = 70\n",
      "Cost function =  1216442020366912.8\n",
      "Iteration = 80\n",
      "Cost function =  1216442019605460.5\n",
      "Iteration = 90\n",
      "Cost function =  1216442018852706.2\n",
      "Iteration = 100\n",
      "Cost function =  1216442018100118.8\n",
      "Iteration = 200\n",
      "Cost function =  1216442010574283.8\n",
      "Iteration = 300\n",
      "Cost function =  1216442003048457.5\n",
      "Iteration = 400\n",
      "Cost function =  1216441995522639.2\n",
      "Iteration = 500\n",
      "Cost function =  1216441987996830.0\n",
      "Iteration = 600\n",
      "Cost function =  1216441980471029.5\n",
      "Iteration = 700\n",
      "Cost function =  1216441972945237.5\n",
      "Iteration = 800\n",
      "Cost function =  1216441965419453.5\n",
      "Iteration = 900\n",
      "Cost function =  1216441957893678.5\n",
      "Iteration = 1000\n",
      "Cost function =  1216441950367912.0\n",
      "Done with gradient descent at iteration  1000\n",
      "Learned weights =  [-1.68107747e-01  2.64595376e+02]\n"
     ]
    }
   ],
   "source": [
    "simple_weights_0_penalty = ridge_regression_gradient_descent(simple_feature_matrix, output, initial_weights, step_size, l2_penalty=0.0, max_iterations=max_iterations)"
   ]
  },
  {
   "cell_type": "markdown",
   "metadata": {},
   "source": [
    "Next, let's consider high regularization.  Set the `l2_penalty` to `1e11` and run your ridge regression algorithm to learn the weights of your model.  Call your weights:\n",
    "\n",
    "`simple_weights_high_penalty`\n",
    "\n",
    "we'll use them later."
   ]
  },
  {
   "cell_type": "code",
   "execution_count": 22,
   "metadata": {},
   "outputs": [
    {
     "name": "stdout",
     "output_type": "stream",
     "text": [
      "Starting gradient descent with l2_penalty = 100000000000.0\n",
      "Iteration = 1\n",
      "Cost function =  7492352980693717.0\n",
      "Iteration = 2\n",
      "Cost function =  5668767414760511.0\n",
      "Iteration = 3\n",
      "Cost function =  4966162001138451.0\n",
      "Iteration = 4\n",
      "Cost function =  4695456615978694.0\n",
      "Iteration = 5\n",
      "Cost function =  4591157062537860.0\n",
      "Iteration = 6\n",
      "Cost function =  4550971653587026.0\n",
      "Iteration = 7\n",
      "Cost function =  4535488645274578.0\n",
      "Iteration = 8\n",
      "Cost function =  4529523171698863.0\n",
      "Iteration = 9\n",
      "Cost function =  4527224688582535.0\n",
      "Iteration = 10\n",
      "Cost function =  4526339052322165.0\n",
      "Iteration = 20\n",
      "Cost function =  4525783100988794.0\n",
      "Iteration = 30\n",
      "Cost function =  4525782106859238.0\n",
      "Iteration = 40\n",
      "Cost function =  4525781152734926.0\n",
      "Iteration = 50\n",
      "Cost function =  4525780198613897.0\n",
      "Iteration = 60\n",
      "Cost function =  4525779244493268.0\n",
      "Iteration = 70\n",
      "Cost function =  4525778290373038.0\n",
      "Iteration = 80\n",
      "Cost function =  4525777336253206.0\n",
      "Iteration = 90\n",
      "Cost function =  4525776382133774.0\n",
      "Iteration = 100\n",
      "Cost function =  4525775428014741.0\n",
      "Iteration = 200\n",
      "Cost function =  4525765886846373.0\n",
      "Iteration = 300\n",
      "Cost function =  4525756345717926.0\n",
      "Iteration = 400\n",
      "Cost function =  4525746804629403.0\n",
      "Iteration = 500\n",
      "Cost function =  4525737263580802.0\n",
      "Iteration = 600\n",
      "Cost function =  4525727722572124.0\n",
      "Iteration = 700\n",
      "Cost function =  4525718181603370.0\n",
      "Iteration = 800\n",
      "Cost function =  4525708640674536.0\n",
      "Iteration = 900\n",
      "Cost function =  4525699099785624.0\n",
      "Iteration = 1000\n",
      "Cost function =  4525689558936634.0\n",
      "Done with gradient descent at iteration  1000\n",
      "Learned weights =  [  9.79155301 125.07002033]\n"
     ]
    }
   ],
   "source": [
    "simple_weights_high_penalty = ridge_regression_gradient_descent(simple_feature_matrix, output, initial_weights, step_size, l2_penalty=1e11, max_iterations=max_iterations)"
   ]
  },
  {
   "cell_type": "markdown",
   "metadata": {},
   "source": [
    "This code will plot the two learned models.  (The blue line is for the model with no regularization and the red line is for the one with high regularization.)"
   ]
  },
  {
   "cell_type": "code",
   "execution_count": 23,
   "metadata": {},
   "outputs": [
    {
     "data": {
      "text/plain": [
       "[<matplotlib.lines.Line2D at 0x2b0e45d0308>,\n",
       " <matplotlib.lines.Line2D at 0x2b0e45daa08>,\n",
       " <matplotlib.lines.Line2D at 0x2b0e45dac08>]"
      ]
     },
     "execution_count": 23,
     "metadata": {},
     "output_type": "execute_result"
    },
    {
     "data": {
      "image/png": "[encoded data removed]",
      "text/plain": [
       "<Figure size 432x288 with 1 Axes>"
      ]
     },
     "metadata": {
      "needs_background": "light"
     },
     "output_type": "display_data"
    }
   ],
   "source": [
    "plt.plot(simple_feature_matrix[:, 1:], output,'k.',\n",
    "         simple_feature_matrix[:, 1:], predict_output(simple_feature_matrix, simple_weights_0_penalty),'b-',\n",
    "         simple_feature_matrix[:, 1:], predict_output(simple_feature_matrix, simple_weights_high_penalty),'r-')"
   ]
  },
  {
   "cell_type": "markdown",
   "metadata": {},
   "source": [
    "**Why `[:, 1:]`? ¯\\\\\\_(ツ)\\_/¯ That's for you to figure out**"
   ]
  },
  {
   "cell_type": "markdown",
   "metadata": {},
   "source": [
    "Compute the RSS on the TEST data for the following three sets of weights:\n",
    "1. The initial weights (all zeros)\n",
    "2. The weights learned with no regularization\n",
    "3. The weights learned with high regularization\n",
    "\n",
    "Which weights perform best?"
   ]
  },
  {
   "cell_type": "code",
   "execution_count": 24,
   "metadata": {},
   "outputs": [
    {
     "name": "stdout",
     "output_type": "stream",
     "text": [
      "1724972157778353.0\n"
     ]
    }
   ],
   "source": [
    "initial_predictions = predict_output(simple_test_feature_matrix, initial_weights)\n",
    "initial_residuals = test_output - initial_predictions\n",
    "initial_RSS = (initial_residuals **2).sum()\n",
    "print(initial_RSS)"
   ]
  },
  {
   "cell_type": "code",
   "execution_count": 25,
   "metadata": {},
   "outputs": [
    {
     "name": "stdout",
     "output_type": "stream",
     "text": [
      "267785724039172.34\n"
     ]
    }
   ],
   "source": [
    "no_regularization_predictions = predict_output(simple_test_feature_matrix, simple_weights_0_penalty)\n",
    "no_regularization_residuals = test_output - no_regularization_predictions\n",
    "no_regularization_RSS = (no_regularization_residuals **2).sum()\n",
    "print(no_regularization_RSS)"
   ]
  },
  {
   "cell_type": "code",
   "execution_count": 26,
   "metadata": {},
   "outputs": [
    {
     "name": "stdout",
     "output_type": "stream",
     "text": [
      "650754968300805.8\n"
     ]
    }
   ],
   "source": [
    "regularization_predictions = predict_output(simple_test_feature_matrix, simple_weights_high_penalty)\n",
    "regularization_residuals = test_output - regularization_predictions\n",
    "regularization_RSS = (regularization_residuals **2).sum()\n",
    "print(regularization_RSS)"
   ]
  },
  {
   "cell_type": "markdown",
   "metadata": {},
   "source": [
    "***QUIZ QUESTIONS***\n",
    "1. What is the value of the coefficient for `sqft_living` that you learned with no regularization, rounded to 1 decimal place?  What about the one with high regularization?\n",
    "2. Comparing the lines you fit with the with no regularization versus high regularization, which one is steeper?\n",
    "3. What are the RSS on the test data for each of the set of weights above (initial, no regularization, high regularization)? \n"
   ]
  },
  {
   "cell_type": "markdown",
   "metadata": {},
   "source": [
    "## Running a multiple regression with L2 penalty"
   ]
  },
  {
   "cell_type": "markdown",
   "metadata": {},
   "source": [
    "Let us now consider a model with 2 features: `['sqft_living', 'sqft_living15']`."
   ]
  },
  {
   "cell_type": "markdown",
   "metadata": {},
   "source": [
    "First, create Numpy versions of your training and test data with these two features. "
   ]
  },
  {
   "cell_type": "code",
   "execution_count": 27,
   "metadata": {},
   "outputs": [],
   "source": [
    "model_features = ['sqft_living', 'sqft_living15'] # sqft_living15 is the average squarefeet for the nearest 15 neighbors. \n",
    "my_output = 'price'\n",
    "(feature_matrix, output) = get_numpy_data(train_data, model_features, my_output)\n",
    "(test_feature_matrix, test_output) = get_numpy_data(test_data, model_features, my_output)"
   ]
  },
  {
   "cell_type": "markdown",
   "metadata": {},
   "source": [
    "We need to re-inialize the weights, since we have one extra parameter. Let us also set the step size and maximum number of iterations."
   ]
  },
  {
   "cell_type": "code",
   "execution_count": 28,
   "metadata": {},
   "outputs": [],
   "source": [
    "initial_weights = np.array([0.0,0.0,0.0])\n",
    "step_size = 1e-12\n",
    "max_iterations = 1000"
   ]
  },
  {
   "cell_type": "markdown",
   "metadata": {},
   "source": [
    "First, let's consider no regularization.  Set the `l2_penalty` to `0.0` and run your ridge regression algorithm to learn the weights of your model.  Call your weights:\n",
    "\n",
    "`multiple_weights_0_penalty`"
   ]
  },
  {
   "cell_type": "code",
   "execution_count": 29,
   "metadata": {},
   "outputs": [
    {
     "name": "stdout",
     "output_type": "stream",
     "text": [
      "Starting gradient descent with l2_penalty = 0.0\n",
      "Iteration = 1\n",
      "Cost function =  7492352980693717.0\n",
      "Iteration = 2\n",
      "Cost function =  4100015537310634.0\n",
      "Iteration = 3\n",
      "Cost function =  2559550924574728.0\n",
      "Iteration = 4\n",
      "Cost function =  1859797380721438.0\n",
      "Iteration = 5\n",
      "Cost function =  1541711552960681.0\n",
      "Iteration = 6\n",
      "Cost function =  1396898662272782.8\n",
      "Iteration = 7\n",
      "Cost function =  1330752397328856.8\n",
      "Iteration = 8\n",
      "Cost function =  1300323694547045.8\n",
      "Iteration = 9\n",
      "Cost function =  1286114647925854.2\n",
      "Iteration = 10\n",
      "Cost function =  1279273617662949.2\n",
      "Iteration = 20\n",
      "Cost function =  1267419439007469.2\n",
      "Iteration = 30\n",
      "Cost function =  1261408974114915.8\n",
      "Iteration = 40\n",
      "Cost function =  1256075260691903.0\n",
      "Iteration = 50\n",
      "Cost function =  1251340611311291.2\n",
      "Iteration = 60\n",
      "Cost function =  1247137740623208.5\n",
      "Iteration = 70\n",
      "Cost function =  1243406921150493.8\n",
      "Iteration = 80\n",
      "Cost function =  1240095133792397.8\n",
      "Iteration = 90\n",
      "Cost function =  1237155314363555.5\n",
      "Iteration = 100\n",
      "Cost function =  1234545684759230.5\n",
      "Iteration = 200\n",
      "Cost function =  1220186473013792.8\n",
      "Iteration = 300\n",
      "Cost function =  1215824193814158.8\n",
      "Iteration = 400\n",
      "Cost function =  1214498941566952.0\n",
      "Iteration = 500\n",
      "Cost function =  1214096325605181.8\n",
      "Iteration = 600\n",
      "Cost function =  1213974002748660.0\n",
      "Iteration = 700\n",
      "Cost function =  1213936831783619.5\n",
      "Iteration = 800\n",
      "Cost function =  1213925529612668.5\n",
      "Iteration = 900\n",
      "Cost function =  1213922086274873.0\n",
      "Iteration = 1000\n",
      "Cost function =  1213921030418245.0\n",
      "Done with gradient descent at iteration  1000\n",
      "Learned weights =  [ -0.36105686 245.10302972  21.88723514]\n"
     ]
    }
   ],
   "source": [
    "multiple_weights_0_penalty = ridge_regression_gradient_descent(feature_matrix, output, initial_weights, step_size, l2_penalty=0.0, max_iterations=max_iterations)"
   ]
  },
  {
   "cell_type": "markdown",
   "metadata": {},
   "source": [
    "Next, let's consider high regularization.  Set the `l2_penalty` to `1e11` and run your ridge regression algorithm to learn the weights of your model.  Call your weights:\n",
    "\n",
    "`multiple_weights_high_penalty`"
   ]
  },
  {
   "cell_type": "code",
   "execution_count": 30,
   "metadata": {},
   "outputs": [
    {
     "name": "stdout",
     "output_type": "stream",
     "text": [
      "Starting gradient descent with l2_penalty = 100000000000.0\n",
      "Iteration = 1\n",
      "Cost function =  7492352980693717.0\n",
      "Iteration = 2\n",
      "Cost function =  4505351315995476.0\n",
      "Iteration = 3\n",
      "Cost function =  3834583288398275.5\n",
      "Iteration = 4\n",
      "Cost function =  3683836193524818.0\n",
      "Iteration = 5\n",
      "Cost function =  3649883287712293.0\n",
      "Iteration = 6\n",
      "Cost function =  3642189242934818.0\n",
      "Iteration = 7\n",
      "Cost function =  3640416281547277.5\n",
      "Iteration = 8\n",
      "Cost function =  3639989348600833.0\n",
      "Iteration = 9\n",
      "Cost function =  3639875240690509.0\n",
      "Iteration = 10\n",
      "Cost function =  3639838090592816.0\n",
      "Iteration = 20\n",
      "Cost function =  3639801889882883.0\n",
      "Iteration = 30\n",
      "Cost function =  3639801135780287.5\n",
      "Iteration = 40\n",
      "Cost function =  3639800678437837.0\n",
      "Iteration = 50\n",
      "Cost function =  3639800224043187.0\n",
      "Iteration = 60\n",
      "Cost function =  3639799769677958.5\n",
      "Iteration = 70\n",
      "Cost function =  3639799315313163.5\n",
      "Iteration = 80\n",
      "Cost function =  3639798860948515.0\n",
      "Iteration = 90\n",
      "Cost function =  3639798406584009.0\n",
      "Iteration = 100\n",
      "Cost function =  3639797952219646.0\n",
      "Iteration = 200\n",
      "Cost function =  3639793408583893.0\n",
      "Iteration = 300\n",
      "Cost function =  3639788864962453.0\n",
      "Iteration = 400\n",
      "Cost function =  3639784321355323.0\n",
      "Iteration = 500\n",
      "Cost function =  3639779777762506.0\n",
      "Iteration = 600\n",
      "Cost function =  3639775234184001.0\n",
      "Iteration = 700\n",
      "Cost function =  3639770690619808.0\n",
      "Iteration = 800\n",
      "Cost function =  3639766147069927.0\n",
      "Iteration = 900\n",
      "Cost function =  3639761603534357.0\n",
      "Iteration = 1000\n",
      "Cost function =  3639757060013100.0\n",
      "Done with gradient descent at iteration  1000\n",
      "Learned weights =  [ 6.76344892 91.93393155 78.75003429]\n"
     ]
    }
   ],
   "source": [
    "multiple_weights_high_penalty = ridge_regression_gradient_descent(feature_matrix, output, initial_weights, step_size, l2_penalty=1e11, max_iterations=max_iterations)"
   ]
  },
  {
   "cell_type": "markdown",
   "metadata": {},
   "source": [
    "Compute the RSS on the TEST data for the following three sets of weights:\n",
    "1. The initial weights (all zeros)\n",
    "2. The weights learned with no regularization\n",
    "3. The weights learned with high regularization\n",
    "\n",
    "Which weights perform best?"
   ]
  },
  {
   "cell_type": "code",
   "execution_count": 31,
   "metadata": {},
   "outputs": [
    {
     "name": "stdout",
     "output_type": "stream",
     "text": [
      "1724972157778353.0\n"
     ]
    }
   ],
   "source": [
    "initial_predictions = predict_output(test_feature_matrix, initial_weights)\n",
    "initial_residuals = test_output - initial_predictions\n",
    "initial_RSS = (initial_residuals **2).sum()\n",
    "print(initial_RSS)"
   ]
  },
  {
   "cell_type": "code",
   "execution_count": 32,
   "metadata": {},
   "outputs": [
    {
     "name": "stdout",
     "output_type": "stream",
     "text": [
      "266037590365260.84\n"
     ]
    }
   ],
   "source": [
    "no_regularization_predictions = predict_output(test_feature_matrix, multiple_weights_0_penalty)\n",
    "no_regularization_residuals = test_output - no_regularization_predictions\n",
    "no_regularization_RSS = (no_regularization_residuals **2).sum()\n",
    "print(no_regularization_RSS)"
   ]
  },
  {
   "cell_type": "code",
   "execution_count": 34,
   "metadata": {},
   "outputs": [
    {
     "name": "stdout",
     "output_type": "stream",
     "text": [
      "462809239744846.25\n"
     ]
    }
   ],
   "source": [
    "regularization_predictions = predict_output(test_feature_matrix, multiple_weights_high_penalty)\n",
    "regularization_residuals = test_output - regularization_predictions\n",
    "regularization_RSS = (regularization_residuals **2).sum()\n",
    "print(regularization_RSS)"
   ]
  },
  {
   "cell_type": "markdown",
   "metadata": {},
   "source": [
    "Predict the house price for the 5th house in the test set using the no regularization and high regularization models. (Remember that python starts indexing from 0.) How far is the prediction from the actual price?  Which weights perform best for the 1st house?"
   ]
  },
  {
   "cell_type": "code",
   "execution_count": 36,
   "metadata": {},
   "outputs": [
    {
     "name": "stdout",
     "output_type": "stream",
     "text": [
      "832832.127187328\n",
      "-52832.12718732795\n"
     ]
    }
   ],
   "source": [
    "print(no_regularization_predictions[4])\n",
    "print(test_output[4] - no_regularization_predictions[4])"
   ]
  },
  {
   "cell_type": "code",
   "execution_count": 37,
   "metadata": {},
   "outputs": [
    {
     "name": "stdout",
     "output_type": "stream",
     "text": [
      "484506.74944128346\n",
      "295493.25055871654\n"
     ]
    }
   ],
   "source": [
    "print(regularization_predictions[4])\n",
    "print(test_output[4] - regularization_predictions[4])"
   ]
  },
  {
   "cell_type": "markdown",
   "metadata": {
    "collapsed": true
   },
   "source": [
    "***QUIZ QUESTIONS***\n",
    "1. What is the value of the coefficient for `sqft_living` that you learned with no regularization, rounded to 1 decimal place?  What about the one with high regularization?\n",
    "2. What are the RSS on the test data for each of the set of weights above (initial, no regularization, high regularization)? \n",
    "3. We make prediction for the fifth house in the test set using two sets of weights (no regularization vs high regularization). Which weights make better (closer) prediction <u>for that particular house</u>?"
   ]
  }
 ],
 "metadata": {
  "kernelspec": {
   "display_name": "Python 3",
   "language": "python",
   "name": "python3"
  },
  "language_info": {
   "codemirror_mode": {
    "name": "ipython",
    "version": 3
   },
   "file_extension": ".py",
   "mimetype": "text/x-python",
   "name": "python",
   "nbconvert_exporter": "python",
   "pygments_lexer": "ipython3",
   "version": "3.7.6"
  }
 },
 "nbformat": 4,
 "nbformat_minor": 1
}
