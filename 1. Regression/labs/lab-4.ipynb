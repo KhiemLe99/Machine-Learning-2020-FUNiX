{
 "cells": [
  {
   "cell_type": "markdown",
   "metadata": {
    "colab_type": "text",
    "id": "VVUKL7jIMH33"
   },
   "source": [
    "# Ridge Regression (interpretation)"
   ]
  },
  {
   "cell_type": "markdown",
   "metadata": {
    "colab_type": "text",
    "id": "0vrMMNPMMH38"
   },
   "source": [
    "In this notebook, we will run ridge regression multiple times with different L2 penalties to see which one produces the best fit. We will revisit the example of polynomial regression as a means to see the effect of L2 regularization. In particular, we will:\n",
    "* Use a pre-built implementation of Ridge Regression from sklearn to run polynomial regression\n",
    "* Use matplotlib to visualize polynomial regressions\n",
    "* Use the implementation above to run polynomial regression, this time with L2 penalty\n",
    "* Use matplotlib to visualize polynomial regressions under L2 regularization\n",
    "* Choose best L2 penalty using cross-validation.\n",
    "* Assess the final fit using test data.\n",
    "\n",
    "We will continue to use the House data from previous notebooks.  (In the next programming assignment for this module, you will implement your own ridge regression learning algorithm using gradient descent.)"
   ]
  },
  {
   "cell_type": "markdown",
   "metadata": {
    "colab_type": "text",
    "id": "VcfzkQ2PMH3-"
   },
   "source": [
    "## Libraries, same old dance"
   ]
  },
  {
   "cell_type": "code",
   "execution_count": 1,
   "metadata": {
    "colab": {},
    "colab_type": "code",
    "id": "W20HLZsEMH4B"
   },
   "outputs": [],
   "source": [
    "import numpy as np\n",
    "import pandas as pd\n",
    "import matplotlib.pyplot as plt\n",
    "from sklearn.linear_model import Ridge, LinearRegression\n",
    "from sklearn.preprocessing import StandardScaler\n",
    "from sklearn.model_selection import train_test_split\n",
    "%matplotlib inline"
   ]
  },
  {
   "cell_type": "markdown",
   "metadata": {
    "colab_type": "text",
    "id": "kk_-_EC-MH4M"
   },
   "source": [
    "## Polynomial regression, revisited"
   ]
  },
  {
   "cell_type": "markdown",
   "metadata": {
    "colab_type": "text",
    "id": "THfgTOGiMH4P"
   },
   "source": [
    "We call back on the material from the previous Lab (*lab-3.ipynb*), where we wrote the function to produce an DataFrame with columns containing the powers of a given input. Copy and paste the function `polynomial_dataframe` from there:"
   ]
  },
  {
   "cell_type": "code",
   "execution_count": 2,
   "metadata": {
    "colab": {},
    "colab_type": "code",
    "id": "35ETgMu4MH4T"
   },
   "outputs": [],
   "source": [
    "def polynomial_dataframe(feature, degree):\n",
    "    poly_data = pd.DataFrame()\n",
    "    poly_data['power_1'] = feature\n",
    "    if degree > 1:\n",
    "        for power in range(2, degree+1): \n",
    "            name = 'power_' + str(power)\n",
    "            poly_data[name] = poly_data['power_1'].apply(lambda x: x ** power)\n",
    "    return poly_data"
   ]
  },
  {
   "cell_type": "markdown",
   "metadata": {
    "colab_type": "text",
    "id": "xR4cfYlIMH4f"
   },
   "source": [
    "Let's use matplotlib to visualize what a polynomial regression looks like on the house data."
   ]
  },
  {
   "cell_type": "code",
   "execution_count": 3,
   "metadata": {
    "colab": {},
    "colab_type": "code",
    "id": "06SszSocMH4k"
   },
   "outputs": [],
   "source": [
    "full_data = pd.read_csv(\"../dataset/house.csv\", index_col=0)"
   ]
  },
  {
   "cell_type": "markdown",
   "metadata": {
    "colab_type": "text",
    "id": "P800G-jSMH45"
   },
   "source": [
    "As in the previous lab, we will use the 'sqft_living' variable. For plotting purposes (connecting the dots), you'll need to sort by the values of 'sqft_living'. For houses with identical square footage, we break the tie by their prices."
   ]
  },
  {
   "cell_type": "code",
   "execution_count": 4,
   "metadata": {
    "colab": {},
    "colab_type": "code",
    "id": "45kD_iqOMH47"
   },
   "outputs": [],
   "source": [
    "full_data = full_data.sort_values(['sqft_living', 'price'])"
   ]
  },
  {
   "cell_type": "markdown",
   "metadata": {
    "colab_type": "text",
    "id": "glxnRQIvMH5D"
   },
   "source": [
    "Let us revisit the 15th-order polynomial model using the 'sqft_living' input. Generate polynomial features up to degree 15 using `polynomial_dataframe()` and fit a model with these features. When fitting the model, use an L2 penalty of `1e-5`:"
   ]
  },
  {
   "cell_type": "code",
   "execution_count": 5,
   "metadata": {
    "colab": {},
    "colab_type": "code",
    "id": "ifNuc9vyMH5F"
   },
   "outputs": [],
   "source": [
    "l2_small_penalty = 1e-5"
   ]
  },
  {
   "cell_type": "markdown",
   "metadata": {
    "colab_type": "text",
    "id": "7N5PNVAKMH5O"
   },
   "source": [
    "Note: When we have so many features and so few data points, the solution can become highly numerically unstable, which can sometimes lead to strange unpredictable results.  Thus, rather than using no regularization, we will introduce a tiny amount of regularization (`l2_penalty=1e-5`) to make the solution numerically stable.  (In lecture, we discussed the fact that regularization can also help with numerical stability, and here we are seeing a practical example.)\n",
    "\n",
    "With the L2 penalty specified above, fit the model and print out the learned weights. You can consult [sklearn's Ridge Regression](https://scikit-learn.org/stable/modules/generated/sklearn.linear_model.Ridge.html).\n",
    "\n",
    "Also, it is in our best interest to normalize the values to Gaussian distribution via [sklearn's StandardScaler](https://scikit-learn.org/stable/modules/generated/sklearn.preprocessing.StandardScaler.html), as we know penalty values regulate the magnitude of weights, which is inversely propotional to the polynomial (and thus very large) values."
   ]
  },
  {
   "cell_type": "code",
   "execution_count": 6,
   "metadata": {
    "colab": {},
    "colab_type": "code",
    "id": "VCYXQCIPMH5Q"
   },
   "outputs": [
    {
     "name": "stdout",
     "output_type": "stream",
     "text": [
      "94003.53112322085\n"
     ]
    }
   ],
   "source": [
    "# Handholding level: Moderate\n",
    "scaler = StandardScaler()\n",
    "poly_data = polynomial_dataframe(full_data['sqft_living'], 15)\n",
    "poly_features = scaler.fit_transform(poly_data.values)\n",
    "# continues by yourself.\n",
    "poly_data['price'] = full_data['price']\n",
    "poly_labels = poly_data['price'].values\n",
    "\n",
    "model = Ridge(l2_small_penalty).fit(poly_features, poly_labels)\n",
    "print(model.coef_[0])"
   ]
  },
  {
   "cell_type": "markdown",
   "metadata": {
    "colab_type": "text",
    "id": "rf9haUEmMH5d"
   },
   "source": [
    "***QUIZ QUESTION:  What's the learned value for the coefficient of feature `power_1`?***"
   ]
  },
  {
   "cell_type": "markdown",
   "metadata": {
    "colab_type": "text",
    "id": "JB7ZkhDWMH5g"
   },
   "source": [
    "# Observe overfitting"
   ]
  },
  {
   "cell_type": "markdown",
   "metadata": {
    "colab_type": "text",
    "id": "33LxBDqbMH5l"
   },
   "source": [
    "Recall from the last lab that the polynomial fit of degree 15 changed wildly whenever the data changed. In particular, when we split the sales data into four subsets and fit the model of degree 15, the result came out to be very different for each subset. The model had a *high variance*. We will see in a moment that ridge regression reduces such variance. But first, we must reproduce the experiment we did."
   ]
  },
  {
   "cell_type": "markdown",
   "metadata": {
    "colab_type": "text",
    "id": "IYinkpENMH5n"
   },
   "source": [
    "First, split the data into split the sales data into four subsets of roughly equal size and call them `set_1`, `set_2`, `set_3`, and `set_4`. Use `train_test_split` function and make sure you set `random_state=0`. "
   ]
  },
  {
   "cell_type": "code",
   "execution_count": 7,
   "metadata": {
    "colab": {},
    "colab_type": "code",
    "id": "dU9EfuonMH5o"
   },
   "outputs": [],
   "source": [
    "big_set_1, big_set_2 = train_test_split(full_data, train_size=0.5, test_size=0.5, random_state=0)\n",
    "set_1, set_2 = train_test_split(big_set_1, train_size=0.5, test_size=0.5, random_state=0)\n",
    "set_3, set_4 = train_test_split(big_set_2, train_size=0.5, test_size=0.5, random_state=0)"
   ]
  },
  {
   "cell_type": "code",
   "execution_count": 8,
   "metadata": {},
   "outputs": [],
   "source": [
    "set_1 = set_1.sort_values(['sqft_living', 'price'])\n",
    "set_2 = set_2.sort_values(['sqft_living', 'price'])\n",
    "set_3 = set_3.sort_values(['sqft_living', 'price'])\n",
    "set_4 = set_4.sort_values(['sqft_living', 'price'])"
   ]
  },
  {
   "cell_type": "markdown",
   "metadata": {
    "colab_type": "text",
    "id": "tUMvZSMOMH5t"
   },
   "source": [
    "Next, fit a 15th degree polynomial on `set_1`, `set_2`, `set_3`, and `set_4`, using 'sqft_living' to predict prices. Print the weights and make a plot of the resulting model."
   ]
  },
  {
   "cell_type": "code",
   "execution_count": 9,
   "metadata": {
    "colab": {},
    "colab_type": "code",
    "id": "FKafX2vyMH5w"
   },
   "outputs": [
    {
     "name": "stdout",
     "output_type": "stream",
     "text": [
      "[    81892.29271984   -471204.44734042   4605619.98345874\n",
      " -16695607.5654695   29951477.4200823  -12295913.31823755\n",
      " -25691724.89292362   7100496.57170549  25727616.45629807\n",
      "  10546103.46643921 -13518337.89968833 -19541045.6156907\n",
      "  -4018691.22929223  13208653.86942575   1269559.74047677]\n"
     ]
    },
    {
     "data": {
      "text/plain": [
       "[<matplotlib.lines.Line2D at 0x1eb06ef3788>,\n",
       " <matplotlib.lines.Line2D at 0x1eb06ee5308>]"
      ]
     },
     "execution_count": 9,
     "metadata": {},
     "output_type": "execute_result"
    },
    {
     "data": {
      "image/png": "[encoded data removed]",
      "text/plain": [
       "<Figure size 432x288 with 1 Axes>"
      ]
     },
     "metadata": {
      "needs_background": "light"
     },
     "output_type": "display_data"
    }
   ],
   "source": [
    "# Handholding level: Moderate\n",
    "scaler = StandardScaler()\n",
    "poly_data_1 = polynomial_dataframe(set_1['sqft_living'], 15)\n",
    "poly_features_1 = scaler.fit_transform(poly_data_1.values)\n",
    "# continues by yourself.\n",
    "poly_data_1['price'] = set_1['price']\n",
    "poly_labels_1 = poly_data_1['price'].values\n",
    "\n",
    "model_1 = Ridge(l2_small_penalty).fit(poly_features_1, poly_labels_1)\n",
    "print(model_1.coef_)\n",
    "\n",
    "plt.plot(poly_data_1['power_1'], poly_data_1['price'], '.',\n",
    "         poly_data_1['power_1'], model_1.predict(poly_features_1), '-')"
   ]
  },
  {
   "cell_type": "code",
   "execution_count": 10,
   "metadata": {
    "colab": {},
    "colab_type": "code",
    "id": "oYl_V_jwMH55",
    "scrolled": false
   },
   "outputs": [
    {
     "name": "stdout",
     "output_type": "stream",
     "text": [
      "[   959021.18224204  -5416757.54523233  15628762.0655576\n",
      " -21110925.70264414   1133761.38127964  27813860.22637361\n",
      "  -3448686.08284246 -30319678.36063823 -13756058.76943078\n",
      "  19498613.98053253  30051321.6450084    8197545.08071765\n",
      " -23418784.2701856  -28588826.44145645  23016411.62801015]\n"
     ]
    },
    {
     "data": {
      "text/plain": [
       "[<matplotlib.lines.Line2D at 0x1eb07044908>,\n",
       " <matplotlib.lines.Line2D at 0x1eb07008f08>]"
      ]
     },
     "execution_count": 10,
     "metadata": {},
     "output_type": "execute_result"
    },
    {
     "data": {
      "image/png": "[encoded data removed]",
      "text/plain": [
       "<Figure size 432x288 with 1 Axes>"
      ]
     },
     "metadata": {
      "needs_background": "light"
     },
     "output_type": "display_data"
    }
   ],
   "source": [
    "# Handholding level: Moderate\n",
    "scaler = StandardScaler()\n",
    "poly_data_2 = polynomial_dataframe(set_2['sqft_living'], 15)\n",
    "poly_features_2 = scaler.fit_transform(poly_data_2.values)\n",
    "# continues by yourself.\n",
    "poly_data_2['price'] = set_2['price']\n",
    "poly_labels_2 = poly_data_2['price'].values\n",
    "\n",
    "model_2 = Ridge(l2_small_penalty).fit(poly_features_2, poly_labels_2)\n",
    "print(model_2.coef_)\n",
    "\n",
    "plt.plot(poly_data_2['power_1'], poly_data_2['price'], '.',\n",
    "         poly_data_2['power_1'], model_2.predict(poly_features_2), '-')"
   ]
  },
  {
   "cell_type": "code",
   "execution_count": 11,
   "metadata": {},
   "outputs": [
    {
     "name": "stdout",
     "output_type": "stream",
     "text": [
      "[   754344.83055929  -3772294.05866496  12858677.85506005\n",
      " -23596592.82530957  12423499.60925727  14532402.47161625\n",
      "  -5146581.6924682  -12440740.33555624  -4918921.46081947\n",
      "   4568139.96862769   7203590.26929807   2933334.86372657\n",
      "  -3014132.63738716  -4606550.26039536   2388498.54583547]\n"
     ]
    },
    {
     "data": {
      "text/plain": [
       "[<matplotlib.lines.Line2D at 0x1eb0750e688>,\n",
       " <matplotlib.lines.Line2D at 0x1eb0748e908>]"
      ]
     },
     "execution_count": 11,
     "metadata": {},
     "output_type": "execute_result"
    },
    {
     "data": {
      "image/png": "[encoded data removed]",
      "text/plain": [
       "<Figure size 432x288 with 1 Axes>"
      ]
     },
     "metadata": {
      "needs_background": "light"
     },
     "output_type": "display_data"
    }
   ],
   "source": [
    "# Handholding level: Moderate\n",
    "scaler = StandardScaler()\n",
    "poly_data_3 = polynomial_dataframe(set_3['sqft_living'], 15)\n",
    "poly_features_3 = scaler.fit_transform(poly_data_3.values)\n",
    "# continues by yourself.\n",
    "poly_data_3['price'] = set_3['price']\n",
    "poly_labels_3 = poly_data_3['price'].values\n",
    "\n",
    "model_3 = Ridge(l2_small_penalty).fit(poly_features_3, poly_labels_3)\n",
    "print(model_3.coef_)\n",
    "\n",
    "plt.plot(poly_data_3['power_1'], poly_data_3['price'], '.',\n",
    "         poly_data_3['power_1'], model_3.predict(poly_features_3), '-')"
   ]
  },
  {
   "cell_type": "code",
   "execution_count": 12,
   "metadata": {
    "colab": {},
    "colab_type": "code",
    "id": "oRvMoJ_rMH5-"
   },
   "outputs": [
    {
     "name": "stdout",
     "output_type": "stream",
     "text": [
      "[   916855.57739254  -4955391.77294564  15039329.01152628\n",
      " -24173839.74092824   9046113.77736189  27959576.58646188\n",
      " -12051691.21008834 -37003393.87100348 -11241214.87190694\n",
      "  31379267.92794963  43230865.82501981   9263128.97933421\n",
      " -42369161.72433003 -52872685.23704267  48122398.19841087]\n"
     ]
    },
    {
     "data": {
      "text/plain": [
       "[<matplotlib.lines.Line2D at 0x1eb075f5c08>,\n",
       " <matplotlib.lines.Line2D at 0x1eb07639248>]"
      ]
     },
     "execution_count": 12,
     "metadata": {},
     "output_type": "execute_result"
    },
    {
     "data": {
      "image/png": "[encoded data removed]",
      "text/plain": [
       "<Figure size 432x288 with 1 Axes>"
      ]
     },
     "metadata": {
      "needs_background": "light"
     },
     "output_type": "display_data"
    }
   ],
   "source": [
    "# Handholding level: Moderate\n",
    "scaler = StandardScaler()\n",
    "poly_data_4 = polynomial_dataframe(set_4['sqft_living'], 15)\n",
    "poly_features_4 = scaler.fit_transform(poly_data_4.values)\n",
    "# continues by yourself.\n",
    "poly_data_4['price'] = set_4['price']\n",
    "poly_labels_4 = poly_data_4['price'].values\n",
    "\n",
    "model_4 = Ridge(l2_small_penalty).fit(poly_features_4, poly_labels_4)\n",
    "print(model_4.coef_)\n",
    "\n",
    "plt.plot(poly_data_4['power_1'], poly_data_4['price'], '.',\n",
    "         poly_data_4['power_1'], model_4.predict(poly_features_4), '-')"
   ]
  },
  {
   "cell_type": "markdown",
   "metadata": {
    "colab_type": "text",
    "id": "BHXGHFkYMH6O"
   },
   "source": [
    "The four curves should differ from one another a lot, as should the coefficients you learned.\n",
    "\n",
    "***QUIZ QUESTION:  For the models learned in each of these training sets, what are the smallest and largest absolute values you learned for the coefficient of feature `power_1`?***"
   ]
  },
  {
   "cell_type": "markdown",
   "metadata": {
    "colab_type": "text",
    "id": "VoPtjmQnMH6R"
   },
   "source": [
    "# Ridge regression comes to rescue"
   ]
  },
  {
   "cell_type": "markdown",
   "metadata": {
    "colab_type": "text",
    "id": "KIWDTF17MH6S"
   },
   "source": [
    "Generally, whenever we see weights change so much in response to change in data, we believe the variance of our estimate to be large. Ridge regression aims to address this issue by penalizing \"large\" weights. (Weights of `model15` looked quite small, but they are not that small because 'sqft_living' input is in the order of thousands.)\n",
    "\n",
    "With the argument `l2_penalty=1e3`, fit a 15th-order polynomial model on `set_1`, `set_2`, `set_3`, and `set_4`. Other than the change in the `l2_penalty`, the code <u>should be the same</u> as the experiment above."
   ]
  },
  {
   "cell_type": "code",
   "execution_count": 13,
   "metadata": {
    "colab": {},
    "colab_type": "code",
    "id": "MGol3bQWMH6T",
    "scrolled": false
   },
   "outputs": [
    {
     "name": "stdout",
     "output_type": "stream",
     "text": [
      "[ 86878.60188958  89896.99515564  68783.12884208  34886.82544555\n",
      "   7231.83894946  -7354.34316038 -12093.42128708 -11600.71592924\n",
      "  -8927.64545413  -5661.41803289  -2515.87893494    240.54199549\n",
      "   2546.44383869   4427.69185989   5940.83799722]\n"
     ]
    },
    {
     "data": {
      "text/plain": [
       "[<matplotlib.lines.Line2D at 0x1eb08968608>,\n",
       " <matplotlib.lines.Line2D at 0x1eb0212f708>]"
      ]
     },
     "execution_count": 13,
     "metadata": {},
     "output_type": "execute_result"
    },
    {
     "data": {
      "image/png": "[encoded data removed]",
      "text/plain": [
       "<Figure size 432x288 with 1 Axes>"
      ]
     },
     "metadata": {
      "needs_background": "light"
     },
     "output_type": "display_data"
    }
   ],
   "source": [
    "# Handholding level: Moderate\n",
    "scaler = StandardScaler()\n",
    "poly_data_1 = polynomial_dataframe(set_1['sqft_living'], 15)\n",
    "poly_features_1 = scaler.fit_transform(poly_data_1.values)\n",
    "# continues by yourself.\n",
    "poly_data_1['price'] = set_1['price']\n",
    "poly_labels_1 = poly_data_1['price'].values\n",
    "\n",
    "model_1 = Ridge(1e3).fit(poly_features_1, poly_labels_1)\n",
    "print(model_1.coef_)\n",
    "\n",
    "plt.plot(poly_data_1['power_1'], poly_data_1['price'], '.',\n",
    "         poly_data_1['power_1'], model_1.predict(poly_features_1), '-')"
   ]
  },
  {
   "cell_type": "code",
   "execution_count": 14,
   "metadata": {
    "colab": {},
    "colab_type": "code",
    "id": "34zUlob1MH6Z",
    "scrolled": false
   },
   "outputs": [
    {
     "name": "stdout",
     "output_type": "stream",
     "text": [
      "[87164.95644993 77124.66539534 53556.07000492 28181.93428363\n",
      " 10653.51783536  1968.55109064 -1047.21766197 -1446.86514939\n",
      " -1090.91586423  -879.93583106 -1149.62804757 -1951.47695702\n",
      " -3214.26332706 -4827.37887198 -6679.74786896]\n"
     ]
    },
    {
     "data": {
      "text/plain": [
       "[<matplotlib.lines.Line2D at 0x1eb07612b88>,\n",
       " <matplotlib.lines.Line2D at 0x1eb08c9dbc8>]"
      ]
     },
     "execution_count": 14,
     "metadata": {},
     "output_type": "execute_result"
    },
    {
     "data": {
      "image/png": "[encoded data removed]",
      "text/plain": [
       "<Figure size 432x288 with 1 Axes>"
      ]
     },
     "metadata": {
      "needs_background": "light"
     },
     "output_type": "display_data"
    }
   ],
   "source": [
    "# Handholding level: Moderate\n",
    "scaler = StandardScaler()\n",
    "poly_data_2 = polynomial_dataframe(set_2['sqft_living'], 15)\n",
    "poly_features_2 = scaler.fit_transform(poly_data_2.values)\n",
    "# continues by yourself.\n",
    "poly_data_2['price'] = set_2['price']\n",
    "poly_labels_2 = poly_data_2['price'].values\n",
    "\n",
    "model_2 = Ridge(1e3).fit(poly_features_2, poly_labels_2)\n",
    "print(model_2.coef_)\n",
    "\n",
    "plt.plot(poly_data_2['power_1'], poly_data_2['price'], '.',\n",
    "         poly_data_2['power_1'], model_2.predict(poly_features_2), '-')"
   ]
  },
  {
   "cell_type": "code",
   "execution_count": 15,
   "metadata": {
    "colab": {},
    "colab_type": "code",
    "id": "aLll4AbHMH6g"
   },
   "outputs": [
    {
     "name": "stdout",
     "output_type": "stream",
     "text": [
      "[108708.10425701 108290.62101515  74064.53120728  40489.10731855\n",
      "  21283.78899705   9828.83133263   1763.00260874  -4566.2365358\n",
      "  -9768.28122607 -14115.13744038 -17769.4798054  -20851.72607522\n",
      " -23459.22346812 -25672.40791794 -27557.75070399]\n"
     ]
    },
    {
     "data": {
      "text/plain": [
       "[<matplotlib.lines.Line2D at 0x1eb075db288>,\n",
       " <matplotlib.lines.Line2D at 0x1eb07200748>]"
      ]
     },
     "execution_count": 15,
     "metadata": {},
     "output_type": "execute_result"
    },
    {
     "data": {
      "image/png": "[encoded data removed]",
      "text/plain": [
       "<Figure size 432x288 with 1 Axes>"
      ]
     },
     "metadata": {
      "needs_background": "light"
     },
     "output_type": "display_data"
    }
   ],
   "source": [
    "# Handholding level: Moderate\n",
    "scaler = StandardScaler()\n",
    "poly_data_3 = polynomial_dataframe(set_3['sqft_living'], 15)\n",
    "poly_features_3 = scaler.fit_transform(poly_data_3.values)\n",
    "# continues by yourself.\n",
    "poly_data_3['price'] = set_3['price']\n",
    "poly_labels_3 = poly_data_3['price'].values\n",
    "\n",
    "model_3 = Ridge(1e3).fit(poly_features_3, poly_labels_3)\n",
    "print(model_3.coef_)\n",
    "\n",
    "plt.plot(poly_data_3['power_1'], poly_data_3['price'], '.',\n",
    "         poly_data_3['power_1'], model_3.predict(poly_features_3), '-')"
   ]
  },
  {
   "cell_type": "code",
   "execution_count": 16,
   "metadata": {
    "colab": {},
    "colab_type": "code",
    "id": "miFqMNCXMH6o"
   },
   "outputs": [
    {
     "name": "stdout",
     "output_type": "stream",
     "text": [
      "[92253.7789929  87982.82158713 58927.61301427 25770.65118722\n",
      "  5008.97828189 -3588.60104085 -5195.2960663  -3729.20259143\n",
      " -1314.14150118  1076.10745769  3070.6328772   4581.88113147\n",
      "  5641.52459228  6322.20366387  6702.78274386]\n"
     ]
    },
    {
     "data": {
      "text/plain": [
       "[<matplotlib.lines.Line2D at 0x1eb07923188>,\n",
       " <matplotlib.lines.Line2D at 0x1eb07391348>]"
      ]
     },
     "execution_count": 16,
     "metadata": {},
     "output_type": "execute_result"
    },
    {
     "data": {
      "image/png": "[encoded data removed]",
      "text/plain": [
       "<Figure size 432x288 with 1 Axes>"
      ]
     },
     "metadata": {
      "needs_background": "light"
     },
     "output_type": "display_data"
    }
   ],
   "source": [
    "# Handholding level: Moderate\n",
    "scaler = StandardScaler()\n",
    "poly_data_4 = polynomial_dataframe(set_4['sqft_living'], 15)\n",
    "poly_features_4 = scaler.fit_transform(poly_data_4.values)\n",
    "# continues by yourself.\n",
    "poly_data_4['price'] = set_4['price']\n",
    "poly_labels_4 = poly_data_4['price'].values\n",
    "\n",
    "model_4 = Ridge(1e3).fit(poly_features_4, poly_labels_4)\n",
    "print(model_4.coef_)\n",
    "\n",
    "plt.plot(poly_data_4['power_1'], poly_data_4['price'], '.',\n",
    "         poly_data_4['power_1'], model_4.predict(poly_features_4), '-')"
   ]
  },
  {
   "cell_type": "markdown",
   "metadata": {
    "colab_type": "text",
    "id": "cZ-xpdVfMH6u"
   },
   "source": [
    "These curves should vary less, now that you applied a high degree of regularization.\n",
    "\n",
    "***QUIZ QUESTION:  For the models learned with the high level of regularization in each of these training sets, what are the smallest and largest values you learned for the coefficient of feature `power_1`?*** (For the purpose of answering this question, negative numbers are considered \"smaller\" than positive numbers. So -5 is smaller than -3, and -3 is smaller than 5 and so forth.)"
   ]
  },
  {
   "cell_type": "markdown",
   "metadata": {
    "colab_type": "text",
    "id": "wugqYf-MMH6w"
   },
   "source": [
    "## Selecting an L2 penalty via cross-validation"
   ]
  },
  {
   "cell_type": "markdown",
   "metadata": {
    "colab_type": "text",
    "id": "dzT-BhisMH6x"
   },
   "source": [
    "Just like the polynomial degree, the L2 penalty is a \"magic\" parameter we need to select. We could use the validation set approach as we did in the last module, but that approach has a major disadvantage: it leaves fewer observations available for training. **Cross-validation** seeks to overcome this issue by using all of the training set in a smart way.\n",
    "\n",
    "We will implement a kind of cross-validation called **k-fold cross-validation**. The method gets its name because it involves dividing the training set into k segments of roughtly equal size. Similar to the validation set method, we measure the validation error with one of the segments designated as the validation set. The major difference is that we repeat the process k times as follows:\n",
    "\n",
    "Set aside segment 0 as the validation set, and fit a model on rest of data, and evaluate it on this validation set<br>\n",
    "Set aside segment 1 as the validation set, and fit a model on rest of data, and evaluate it on this validation set<br>\n",
    "...<br>\n",
    "Set aside segment k-1 as the validation set, and fit a model on rest of data, and evaluate it on this validation set\n",
    "\n",
    "After this process, we compute the average of the k validation errors, and use it as an estimate of the generalization error. Notice that  all observations are used for both training and validation, as we iterate over segments of data. \n",
    "\n",
    "To estimate the generalization error well, it is crucial to shuffle the training data before dividing them into segments. Sklearn already have a shuffling function, so we use that."
   ]
  },
  {
   "cell_type": "code",
   "execution_count": 0,
   "metadata": {
    "colab": {},
    "colab_type": "code",
    "id": "HXnQwfyoMH61"
   },
   "outputs": [],
   "source": [
    "train_and_validation, test_data = train_test_split(full_data, train_size=0.9, test_size=0.1, random_state=1)\n",
    "train_and_validation = sklearn.utils.shuffle(train_and_validation, random_state=1)"
   ]
  },
  {
   "cell_type": "markdown",
   "metadata": {
    "colab_type": "text",
    "id": "ayYvIzSYMH66"
   },
   "source": [
    "Once the data is shuffled, we divide it into equal segments. Each segment should receive `n/k` elements, where `n` is the number of observations in the training set and `k` is the number of segments. Since the segment 0 starts at index 0 and contains `n/k` elements, it ends at index `(n/k)-1`. The segment 1 starts where the segment 0 left off, at index `(n/k)`. With `n/k` elements, the segment 1 ends at index `(n*2/k)-1`. Continuing in this fashion, we deduce that the segment `i` starts at index `(n*i/k)` and ends at `(n*(i+1)/k)-1`."
   ]
  },
  {
   "cell_type": "markdown",
   "metadata": {
    "colab_type": "text",
    "id": "RAQD4ox1MH67"
   },
   "source": [
    "With this pattern in mind, we write a short loop that prints the starting and ending indices of each segment, just to make sure you are getting the splits right."
   ]
  },
  {
   "cell_type": "code",
   "execution_count": 0,
   "metadata": {
    "colab": {},
    "colab_type": "code",
    "id": "dheyb20lMH68"
   },
   "outputs": [],
   "source": [
    "n = len(train_and_validation)\n",
    "k = 10 # 10-fold cross-validation\n",
    "\n",
    "for i in range(k):\n",
    "    start = (n*i)//k\n",
    "    end = (n*(i+1))//k-1\n",
    "    print(i, (start, end))"
   ]
  },
  {
   "cell_type": "markdown",
   "metadata": {
    "colab_type": "text",
    "id": "SCWf-zc0MH7D"
   },
   "source": [
    "One of the nice things about data library in general are their ability to accept slices. To extract a continuous slice from the DataFrame, use colon in square brackets. For instance, the following cell extracts rows 0 to 9 of `train_and_validation`. Notice that the first index (0) is included in the slice but the last index (10) is omitted."
   ]
  },
  {
   "cell_type": "code",
   "execution_count": 0,
   "metadata": {
    "colab": {},
    "colab_type": "code",
    "id": "d1OlHZH9MH7E"
   },
   "outputs": [],
   "source": [
    "train_and_validation[0:10] # rows 0 to 9"
   ]
  },
  {
   "cell_type": "markdown",
   "metadata": {
    "colab_type": "text",
    "id": "BVejNgM7MH7K"
   },
   "source": [
    "Now let us extract individual segments with array slicing. Consider the scenario where we group the houses in the `train_and_validation` dataframe into k=10 segments of roughly equal size, with starting and ending indices computed as above.\n",
    "Extract the fourth segment (segment 3) and assign it to a variable called `validation4`."
   ]
  },
  {
   "cell_type": "code",
   "execution_count": 0,
   "metadata": {
    "colab": {},
    "colab_type": "code",
    "id": "rEYQLIo3MH7L"
   },
   "outputs": [],
   "source": []
  },
  {
   "cell_type": "markdown",
   "metadata": {
    "colab_type": "text",
    "id": "rpbBFCx5MH7R"
   },
   "source": [
    "To verify that we have the right elements extracted, run the following cell, which computes the average price of the fourth segment. When rounded to nearest whole number, the average should be $544,330."
   ]
  },
  {
   "cell_type": "code",
   "execution_count": 0,
   "metadata": {
    "colab": {},
    "colab_type": "code",
    "id": "PkXCYyxYMH7T"
   },
   "outputs": [],
   "source": [
    "print( round(validation4['price'].mean(), 0) )"
   ]
  },
  {
   "cell_type": "markdown",
   "metadata": {
    "colab_type": "text",
    "id": "ZJPG1EaHMH7Y"
   },
   "source": [
    "After designating one of the k segments as the validation set, we train a model using the rest of the data. To choose the remainder, we slice (0:start) and (end+1:n) of the data and paste them together. DataFrame has `append()` method that pastes together two disjoint sets of rows originating from a common dataset. For instance, the following cell pastes together the first and last two rows of the `train_and_validation` dataframe."
   ]
  },
  {
   "cell_type": "code",
   "execution_count": 0,
   "metadata": {
    "colab": {},
    "colab_type": "code",
    "id": "qao1cWIWMH7a"
   },
   "outputs": [],
   "source": [
    "n = len(train_and_validation)\n",
    "first_two = train_and_validation[0:2]\n",
    "last_two = train_and_validation[n-2:n]\n",
    "print(first_two.append(last_two))"
   ]
  },
  {
   "cell_type": "markdown",
   "metadata": {
    "colab_type": "text",
    "id": "PcQb83MxMH7f"
   },
   "source": [
    "Extract the remainder of the data after *excluding* fourth segment (segment 3) and assign the subset to `train4`."
   ]
  },
  {
   "cell_type": "code",
   "execution_count": 0,
   "metadata": {
    "colab": {},
    "colab_type": "code",
    "id": "NHBeNdXNMH7i"
   },
   "outputs": [],
   "source": [
    "# time to use your brain. Where do the fourth segment start and end? What do .append do?"
   ]
  },
  {
   "cell_type": "markdown",
   "metadata": {
    "colab_type": "text",
    "id": "9gwRZPGKMH7o"
   },
   "source": [
    "To verify that we have the right elements extracted, run the following cell, which computes the average price of the data with fourth segment excluded. When rounded to nearest whole number, the average should be $540,120."
   ]
  },
  {
   "cell_type": "code",
   "execution_count": 0,
   "metadata": {
    "colab": {},
    "colab_type": "code",
    "id": "bzsyZHH6MH7s"
   },
   "outputs": [],
   "source": [
    "print( round(train4['price'].mean(), 0) )"
   ]
  },
  {
   "cell_type": "markdown",
   "metadata": {
    "colab_type": "text",
    "id": "JHkgU6KyMH7x"
   },
   "source": [
    "Now we are ready to implement k-fold cross-validation. Write a function that computes k validation errors by designating each of the k segments as the validation set. It accepts as parameters (i) `k`, (ii) `l2_penalty`, (iii) dataframe, (iv) name of output column (e.g. `price`) and (v) list of feature names. The function returns the average validation error using k segments as validation sets.\n",
    "\n",
    "* For each i in [0, 1, ..., k-1]:\n",
    "  * Compute starting and ending indices of segment i and call 'start' and 'end'\n",
    "  * Form validation set by taking a slice (start:end+1) from the data.\n",
    "  * Form training set by appending slice (end+1:n) to the end of slice (0:start).\n",
    "  * Train a linear model using training set just formed, with a given l2_penalty\n",
    "  * Compute validation error using validation set just formed\n",
    "\n",
    "Also, sklearn have an inbuilt `mean_squared_error` function."
   ]
  },
  {
   "cell_type": "code",
   "execution_count": 0,
   "metadata": {
    "colab": {},
    "colab_type": "code",
    "id": "mYbI8bmyMH7z"
   },
   "outputs": [],
   "source": [
    "def k_fold_cross_validation(k, l2_penalty, data, output_name, features_list):\n",
    "    # implement the function.\n",
    "    return mean_error"
   ]
  },
  {
   "cell_type": "markdown",
   "metadata": {
    "colab_type": "text",
    "id": "Zr2zhJrTMH75"
   },
   "source": [
    "Once we have a function to compute the average validation error for a model, we can write a loop to find the model that minimizes the average validation error. Write a loop that does the following:\n",
    "* We will again be aiming to fit a 15th-order polynomial model using the `sqft_living` input\n",
    "* For `l2_penalty` in [10^0, 10^0.5, 10^1, 10^1.5, ..., 10^2] (to get this in Python, you can use this Numpy function: `np.logspace(0, 10, num=21)`.)\n",
    "    * Run 10-fold cross-validation with `l2_penalty`\n",
    "* Report which L2 penalty produced the lowest average validation error.\n",
    "\n",
    "Note: since the degree of the polynomial is now fixed to 15, to make things faster, you should generate polynomial features in advance and re-use them throughout the loop. Make sure to use `train_and_validation` when generating polynomial features!\n",
    "\n",
    "If you are seeing two much reds from `scipy.linalg.solve`, import `warnings` and use `warnings.filterwarnings('ignore')`. Not best practice, but useful. Once you are done, set `warnings.resetwarnings()` to turn it back to normal."
   ]
  },
  {
   "cell_type": "code",
   "execution_count": 0,
   "metadata": {
    "colab": {},
    "colab_type": "code",
    "id": "yydEZVn_MH77"
   },
   "outputs": [],
   "source": [
    "# Best practice vs your eyes.\n"
   ]
  },
  {
   "cell_type": "markdown",
   "metadata": {
    "colab_type": "text",
    "id": "HtOYofhRMH8G"
   },
   "source": [
    "***QUIZ QUESTIONS:  What is the best value for the L2 penalty according to 10-fold validation?***"
   ]
  },
  {
   "cell_type": "markdown",
   "metadata": {
    "colab_type": "text",
    "id": "7_Ii1d_YMH8I"
   },
   "source": [
    "You may find it useful to plot the k-fold cross-validation errors you have obtained to better understand the behavior of the method. Also you can use `plt.xscale('log')` for an intuitive plot. [Quitter.](https://xkcd.com/1162/)"
   ]
  },
  {
   "cell_type": "code",
   "execution_count": 0,
   "metadata": {
    "colab": {},
    "colab_type": "code",
    "id": "KxPQK30CMH8L"
   },
   "outputs": [],
   "source": [
    "# Plot the l2_penalty values(maybe in log) in the x axis and the cross-validation error in the y axis. \n",
    "\n"
   ]
  },
  {
   "cell_type": "markdown",
   "metadata": {
    "colab_type": "text",
    "id": "J7ZjNm7DMH8T"
   },
   "source": [
    "Once you found the best value for the L2 penalty using cross-validation, it is important to retrain a final model on all of the training data using this value of `l2_penalty`. This way, your final model will be trained on the entire dataset."
   ]
  },
  {
   "cell_type": "code",
   "execution_count": 0,
   "metadata": {
    "colab": {},
    "colab_type": "code",
    "id": "yfsV8RKWMH8V"
   },
   "outputs": [],
   "source": []
  },
  {
   "cell_type": "markdown",
   "metadata": {
    "colab_type": "text",
    "id": "0CdIGVRRMH8b"
   },
   "source": [
    "***QUIZ QUESTION: Using the best L2 penalty found above, train a model using all training data. What is the RSS on the TEST data of the model you learn with this L2 penalty? ***"
   ]
  },
  {
   "cell_type": "code",
   "execution_count": 0,
   "metadata": {
    "colab": {},
    "colab_type": "code",
    "id": "WYLheewBMH8c"
   },
   "outputs": [],
   "source": []
  }
 ],
 "metadata": {
  "colab": {
   "collapsed_sections": [],
   "name": "lab-4.ipynb",
   "provenance": []
  },
  "kernelspec": {
   "display_name": "Python 3",
   "language": "python",
   "name": "python3"
  },
  "language_info": {
   "codemirror_mode": {
    "name": "ipython",
    "version": 3
   },
   "file_extension": ".py",
   "mimetype": "text/x-python",
   "name": "python",
   "nbconvert_exporter": "python",
   "pygments_lexer": "ipython3",
   "version": "3.7.6"
  }
 },
 "nbformat": 4,
 "nbformat_minor": 1
}
