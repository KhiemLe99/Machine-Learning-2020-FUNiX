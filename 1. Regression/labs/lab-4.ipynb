{
 "cells": [
  {
   "cell_type": "markdown",
   "metadata": {
    "colab_type": "text",
    "id": "VVUKL7jIMH33"
   },
   "source": [
    "# Ridge Regression (interpretation)"
   ]
  },
  {
   "cell_type": "markdown",
   "metadata": {
    "colab_type": "text",
    "id": "0vrMMNPMMH38"
   },
   "source": [
    "In this notebook, we will run ridge regression multiple times with different L2 penalties to see which one produces the best fit. We will revisit the example of polynomial regression as a means to see the effect of L2 regularization. In particular, we will:\n",
    "* Use a pre-built implementation of Ridge Regression from sklearn to run polynomial regression\n",
    "* Use matplotlib to visualize polynomial regressions\n",
    "* Use the implementation above to run polynomial regression, this time with L2 penalty\n",
    "* Use matplotlib to visualize polynomial regressions under L2 regularization\n",
    "* Choose best L2 penalty using cross-validation.\n",
    "* Assess the final fit using test data.\n",
    "\n",
    "We will continue to use the House data from previous notebooks.  (In the next programming assignment for this module, you will implement your own ridge regression learning algorithm using gradient descent.)"
   ]
  },
  {
   "cell_type": "markdown",
   "metadata": {
    "colab_type": "text",
    "id": "VcfzkQ2PMH3-"
   },
   "source": [
    "## Libraries, same old dance"
   ]
  },
  {
   "cell_type": "code",
   "execution_count": 1,
   "metadata": {
    "colab": {},
    "colab_type": "code",
    "id": "W20HLZsEMH4B"
   },
   "outputs": [],
   "source": [
    "import numpy as np\n",
    "import pandas as pd\n",
    "import matplotlib.pyplot as plt\n",
    "from sklearn.preprocessing import StandardScaler\n",
    "from sklearn.model_selection import train_test_split\n",
    "from sklearn.utils import shuffle\n",
    "from sklearn.linear_model import Ridge, LinearRegression\n",
    "from sklearn.metrics import mean_squared_error\n",
    "%matplotlib inline"
   ]
  },
  {
   "cell_type": "markdown",
   "metadata": {
    "colab_type": "text",
    "id": "kk_-_EC-MH4M"
   },
   "source": [
    "## Polynomial regression, revisited"
   ]
  },
  {
   "cell_type": "markdown",
   "metadata": {
    "colab_type": "text",
    "id": "THfgTOGiMH4P"
   },
   "source": [
    "We call back on the material from the previous Lab (*lab-3.ipynb*), where we wrote the function to produce an DataFrame with columns containing the powers of a given input. Copy and paste the function `polynomial_dataframe` from there:"
   ]
  },
  {
   "cell_type": "code",
   "execution_count": 2,
   "metadata": {
    "colab": {},
    "colab_type": "code",
    "id": "35ETgMu4MH4T"
   },
   "outputs": [],
   "source": [
    "def polynomial_dataframe(feature, degree):\n",
    "    poly_data = pd.DataFrame()\n",
    "    poly_data['power_1'] = feature\n",
    "    if degree > 1:\n",
    "        for power in range(2, degree+1): \n",
    "            name = 'power_' + str(power)\n",
    "            poly_data[name] = poly_data['power_1'].apply(lambda x: x ** power)\n",
    "    return poly_data"
   ]
  },
  {
   "cell_type": "markdown",
   "metadata": {
    "colab_type": "text",
    "id": "xR4cfYlIMH4f"
   },
   "source": [
    "Let's use matplotlib to visualize what a polynomial regression looks like on the house data."
   ]
  },
  {
   "cell_type": "code",
   "execution_count": 3,
   "metadata": {
    "colab": {},
    "colab_type": "code",
    "id": "6GB7vW5nMH4v"
   },
   "outputs": [],
   "source": [
    "full_data = pd.read_csv(\"../dataset/house.csv\", index_col=0)"
   ]
  },
  {
   "cell_type": "markdown",
   "metadata": {
    "colab_type": "text",
    "id": "P800G-jSMH45"
   },
   "source": [
    "As in the previous lab, we will use the 'sqft_living' variable. For plotting purposes (connecting the dots), you'll need to sort by the values of 'sqft_living'. For houses with identical square footage, we break the tie by their prices."
   ]
  },
  {
   "cell_type": "code",
   "execution_count": 4,
   "metadata": {
    "colab": {},
    "colab_type": "code",
    "id": "45kD_iqOMH47"
   },
   "outputs": [],
   "source": [
    "full_data = full_data.sort_values(['sqft_living', 'price'])"
   ]
  },
  {
   "cell_type": "markdown",
   "metadata": {
    "colab_type": "text",
    "id": "glxnRQIvMH5D"
   },
   "source": [
    "Let us revisit the 15th-order polynomial model using the 'sqft_living' input. Generate polynomial features up to degree 15 using `polynomial_dataframe()` and fit a model with these features. When fitting the model, use an L2 penalty of `1e-5`:"
   ]
  },
  {
   "cell_type": "code",
   "execution_count": 5,
   "metadata": {
    "colab": {},
    "colab_type": "code",
    "id": "ifNuc9vyMH5F"
   },
   "outputs": [],
   "source": [
    "l2_small_penalty = 1e-5"
   ]
  },
  {
   "cell_type": "markdown",
   "metadata": {
    "colab_type": "text",
    "id": "7N5PNVAKMH5O"
   },
   "source": [
    "Note: When we have so many features and so few data points, the solution can become highly numerically unstable, which can sometimes lead to strange unpredictable results.  Thus, rather than using no regularization, we will introduce a tiny amount of regularization (`l2_penalty=1e-5`) to make the solution numerically stable.  (In lecture, we discussed the fact that regularization can also help with numerical stability, and here we are seeing a practical example.)\n",
    "\n",
    "With the L2 penalty specified above, fit the model and print out the learned weights. You can consult [sklearn's Ridge Regression](https://scikit-learn.org/stable/modules/generated/sklearn.linear_model.Ridge.html).\n",
    "\n",
    "Also, it is in our best interest to normalize the values to Gaussian distribution via [sklearn's StandardScaler](https://scikit-learn.org/stable/modules/generated/sklearn.preprocessing.StandardScaler.html), as we know penalty values regulate the magnitude of weights, which is inversely propotional to the polynomial (and thus very large) values."
   ]
  },
  {
   "cell_type": "code",
   "execution_count": 6,
   "metadata": {
    "colab": {},
    "colab_type": "code",
    "id": "VCYXQCIPMH5Q"
   },
   "outputs": [],
   "source": [
    "# Handholding level: Moderate\n",
    "scaler = StandardScaler()\n",
    "poly_data = polynomial_dataframe(full_data['sqft_living'], 15)\n",
    "poly_features = scaler.fit_transform(poly_data.values)\n",
    "# continues by yourself.\n",
    "poly_data['price'] = full_data['price']\n",
    "poly_labels = poly_data['price'].values\n",
    "\n",
    "model = Ridge(alpha=l2_small_penalty).fit(poly_features, poly_labels)"
   ]
  },
  {
   "cell_type": "code",
   "execution_count": 7,
   "metadata": {},
   "outputs": [
    {
     "data": {
      "text/plain": [
       "94003.53112322085"
      ]
     },
     "execution_count": 7,
     "metadata": {},
     "output_type": "execute_result"
    }
   ],
   "source": [
    "model.coef_[0]"
   ]
  },
  {
   "cell_type": "markdown",
   "metadata": {
    "colab_type": "text",
    "id": "rf9haUEmMH5d"
   },
   "source": [
    "***QUIZ QUESTION:  What's the learned value for the coefficient of feature `power_1`?***"
   ]
  },
  {
   "cell_type": "markdown",
   "metadata": {
    "colab_type": "text",
    "id": "JB7ZkhDWMH5g"
   },
   "source": [
    "# Observe overfitting"
   ]
  },
  {
   "cell_type": "markdown",
   "metadata": {
    "colab_type": "text",
    "id": "33LxBDqbMH5l"
   },
   "source": [
    "Recall from the last lab that the polynomial fit of degree 15 changed wildly whenever the data changed. In particular, when we split the sales data into four subsets and fit the model of degree 15, the result came out to be very different for each subset. The model had a *high variance*. We will see in a moment that ridge regression reduces such variance. But first, we must reproduce the experiment we did."
   ]
  },
  {
   "cell_type": "markdown",
   "metadata": {
    "colab_type": "text",
    "id": "IYinkpENMH5n"
   },
   "source": [
    "First, split the data into split the sales data into four subsets of roughly equal size and call them `set_1`, `set_2`, `set_3`, and `set_4`. Use `train_test_split` function and make sure you set `random_state=0`. "
   ]
  },
  {
   "cell_type": "code",
   "execution_count": 8,
   "metadata": {
    "colab": {},
    "colab_type": "code",
    "id": "dU9EfuonMH5o"
   },
   "outputs": [],
   "source": [
    "big_set_1, big_set_2 = train_test_split(full_data, train_size=0.5, test_size=0.5, random_state=0)\n",
    "set_1, set_2 = train_test_split(big_set_1, train_size=0.5, test_size=0.5, random_state=0)\n",
    "set_3, set_4 = train_test_split(big_set_2, train_size=0.5, test_size=0.5, random_state=0)"
   ]
  },
  {
   "cell_type": "code",
   "execution_count": 9,
   "metadata": {},
   "outputs": [],
   "source": [
    "set_1 = set_1.sort_values(['sqft_living', 'price'])\n",
    "set_2 = set_2.sort_values(['sqft_living', 'price'])\n",
    "set_3 = set_3.sort_values(['sqft_living', 'price'])\n",
    "set_4 = set_4.sort_values(['sqft_living', 'price'])"
   ]
  },
  {
   "cell_type": "markdown",
   "metadata": {
    "colab_type": "text",
    "id": "tUMvZSMOMH5t"
   },
   "source": [
    "Next, fit a 15th degree polynomial on `set_1`, `set_2`, `set_3`, and `set_4`, using 'sqft_living' to predict prices. Print the weights and make a plot of the resulting model."
   ]
  },
  {
   "cell_type": "code",
   "execution_count": 29,
   "metadata": {},
   "outputs": [
    {
     "name": "stdout",
     "output_type": "stream",
     "text": [
      "[ 1.54932914e-77 -7.64788941e-39 -3.23439180e-44 -2.35715698e-49\n",
      " -2.08809743e-53  2.61021625e-54  2.56931958e-55  1.09262700e-51\n",
      "  4.30695774e-48  1.50527729e-44  4.26176038e-41  7.63075839e-38\n",
      " -2.82776363e-41  3.47267325e-45 -1.41117539e-49]\n"
     ]
    },
    {
     "data": {
      "image/png": "[encoded data removed]",
      "text/plain": [
       "<Figure size 432x288 with 1 Axes>"
      ]
     },
     "metadata": {
      "needs_background": "light"
     },
     "output_type": "display_data"
    }
   ],
   "source": [
    "poly15_data = polynomial_dataframe(set_1['sqft_living'], 15) # create polynomial up to 2 degree\n",
    "features_poly15 = poly15_data.values # extract the features immediately\n",
    "poly15_data['price'] = set_1['price']\n",
    "labels_poly15 = poly15_data['price'].values # receive the labels\n",
    "\n",
    "model15 = LinearRegression().fit(features_poly15, labels_poly15)\n",
    "\n",
    "plt.plot(poly15_data['power_1'], poly15_data['price'], '.',\n",
    "         poly15_data['power_1'], model15.predict(features_poly15), '-')\n",
    "print(model15.coef_)"
   ]
  },
  {
   "cell_type": "code",
   "execution_count": 30,
   "metadata": {},
   "outputs": [
    {
     "name": "stdout",
     "output_type": "stream",
     "text": [
      "[ 2.06673025e-77 -9.68537025e-40 -6.05892294e-45  7.39427111e-51\n",
      " -3.13214614e-53  1.21964789e-58  3.10501964e-55  1.29978834e-51\n",
      "  5.04049822e-48  1.73148640e-44  4.81254105e-41  8.44735278e-38\n",
      " -3.27742401e-41  4.23214656e-45 -1.81727609e-49]\n"
     ]
    },
    {
     "data": {
      "image/png": "[encoded data removed]",
      "text/plain": [
       "<Figure size 432x288 with 1 Axes>"
      ]
     },
     "metadata": {
      "needs_background": "light"
     },
     "output_type": "display_data"
    }
   ],
   "source": [
    "poly15_data = polynomial_dataframe(set_2['sqft_living'], 15) # create polynomial up to 2 degree\n",
    "features_poly15 = poly15_data.values # extract the features immediately\n",
    "poly15_data['price'] = set_2['price']\n",
    "labels_poly15 = poly15_data['price'].values # receive the labels\n",
    "\n",
    "model15 = LinearRegression().fit(features_poly15, labels_poly15)\n",
    "\n",
    "plt.plot(poly15_data['power_1'], poly15_data['price'], '.',\n",
    "         poly15_data['power_1'], model15.predict(features_poly15), '-')\n",
    "print(model15.coef_)"
   ]
  },
  {
   "cell_type": "code",
   "execution_count": 31,
   "metadata": {},
   "outputs": [
    {
     "name": "stdout",
     "output_type": "stream",
     "text": [
      "[ 2.91296634e-91  8.12806647e-50  2.63556334e-55 -2.48920611e-60\n",
      "  1.03416817e-74  1.98665146e-71  1.72338793e-67  1.45618391e-63\n",
      "  1.18181701e-59  9.01758248e-56  6.23236266e-52  3.61015489e-48\n",
      "  1.40147071e-44 -2.15331334e-48  8.26074981e-53]\n"
     ]
    },
    {
     "data": {
      "image/png": "[encoded data removed]",
      "text/plain": [
       "<Figure size 432x288 with 1 Axes>"
      ]
     },
     "metadata": {
      "needs_background": "light"
     },
     "output_type": "display_data"
    }
   ],
   "source": [
    "poly15_data = polynomial_dataframe(set_3['sqft_living'], 15) # create polynomial up to 2 degree\n",
    "features_poly15 = poly15_data.values # extract the features immediately\n",
    "poly15_data['price'] = set_3['price']\n",
    "labels_poly15 = poly15_data['price'].values # receive the labels\n",
    "\n",
    "model15 = LinearRegression().fit(features_poly15, labels_poly15)\n",
    "\n",
    "plt.plot(poly15_data['power_1'], poly15_data['price'], '.',\n",
    "         poly15_data['power_1'], model15.predict(features_poly15), '-')\n",
    "print(model15.coef_)"
   ]
  },
  {
   "cell_type": "code",
   "execution_count": 32,
   "metadata": {},
   "outputs": [
    {
     "name": "stdout",
     "output_type": "stream",
     "text": [
      "[ 1.47169049e-78  7.23323130e-40  3.05533917e-46  4.90642030e-50\n",
      "  3.14922440e-72  1.55471318e-59  4.42090194e-56  2.09408200e-52\n",
      "  9.19003578e-49  3.57296634e-45  1.12402144e-41  2.23325952e-38\n",
      " -7.48077988e-42  8.33536611e-46 -3.08782301e-50]\n"
     ]
    },
    {
     "data": {
      "image/png": "[encoded data removed]",
      "text/plain": [
       "<Figure size 432x288 with 1 Axes>"
      ]
     },
     "metadata": {
      "needs_background": "light"
     },
     "output_type": "display_data"
    }
   ],
   "source": [
    "poly15_data = polynomial_dataframe(set_4['sqft_living'], 15) # create polynomial up to 2 degree\n",
    "features_poly15 = poly15_data.values # extract the features immediately\n",
    "poly15_data['price'] = set_4['price']\n",
    "labels_poly15 = poly15_data['price'].values # receive the labels\n",
    "\n",
    "model15 = LinearRegression().fit(features_poly15, labels_poly15)\n",
    "\n",
    "plt.plot(poly15_data['power_1'], poly15_data['price'], '.',\n",
    "         poly15_data['power_1'], model15.predict(features_poly15), '-')\n",
    "print(model15.coef_)"
   ]
  },
  {
   "cell_type": "markdown",
   "metadata": {
    "colab_type": "text",
    "id": "BHXGHFkYMH6O"
   },
   "source": [
    "The four curves should differ from one another a lot, as should the coefficients you learned.\n",
    "\n",
    "***QUIZ QUESTION:  For the models learned in each of these training sets, what are the smallest and largest absolute values you learned for the coefficient of feature `power_1`?***"
   ]
  },
  {
   "cell_type": "markdown",
   "metadata": {
    "colab_type": "text",
    "id": "VoPtjmQnMH6R"
   },
   "source": [
    "# Ridge regression comes to rescue"
   ]
  },
  {
   "cell_type": "markdown",
   "metadata": {
    "colab_type": "text",
    "id": "KIWDTF17MH6S"
   },
   "source": [
    "Generally, whenever we see weights change so much in response to change in data, we believe the variance of our estimate to be large. Ridge regression aims to address this issue by penalizing \"large\" weights. (Weights of `model15` looked quite small, but they are not that small because 'sqft_living' input is in the order of thousands.)\n",
    "\n",
    "With the argument `l2_penalty=1e3`, fit a 15th-order polynomial model on `set_1`, `set_2`, `set_3`, and `set_4`. Other than the change in the `l2_penalty`, the code <u>should be the same</u> as the experiment above."
   ]
  },
  {
   "cell_type": "code",
   "execution_count": 56,
   "metadata": {},
   "outputs": [
    {
     "name": "stdout",
     "output_type": "stream",
     "text": [
      "81892.29271984179\n"
     ]
    }
   ],
   "source": [
    "# Handholding level: Moderate\n",
    "scaler = StandardScaler()\n",
    "poly_data = polynomial_dataframe(set_1['sqft_living'], 15)\n",
    "poly_features = scaler.fit_transform(poly_data.values)\n",
    "# continues by yourself.\n",
    "poly_data['price'] = set_1['price']\n",
    "poly_labels = poly_data['price'].values\n",
    "\n",
    "model = Ridge(alpha=l2_small_penalty).fit(poly_features, poly_labels)\n",
    "print(model.coef_[0])"
   ]
  },
  {
   "cell_type": "code",
   "execution_count": 54,
   "metadata": {},
   "outputs": [
    {
     "name": "stdout",
     "output_type": "stream",
     "text": [
      "[-1.74582589e+04  5.72041548e+01 -1.03598053e-01  1.19330893e-04\n",
      " -9.35238539e-08  5.17688438e-11 -2.06658721e-14  6.01221222e-18\n",
      " -1.27770669e-21  1.97227451e-25 -2.17718644e-29  1.66809078e-33\n",
      " -8.39548852e-38  2.48815379e-42 -3.28128695e-47]\n"
     ]
    },
    {
     "data": {
      "image/png": "[encoded data removed]",
      "text/plain": [
       "<Figure size 432x288 with 1 Axes>"
      ]
     },
     "metadata": {
      "needs_background": "light"
     },
     "output_type": "display_data"
    }
   ],
   "source": [
    "poly15_data = polynomial_dataframe(set_3['sqft_living'], 15) # create polynomial up to 2 degree\n",
    "features_poly15 = poly15_data.values # extract the features immediately\n",
    "poly15_data['price'] = set_3['price']\n",
    "labels_poly15 = poly15_data['price'].values # receive the labels\n",
    "\n",
    "model15 = Ridge(alpha=0, normalize=True).fit(features_poly15, labels_poly15)\n",
    "\n",
    "plt.plot(poly15_data['power_1'], poly15_data['price'], '.',\n",
    "         poly15_data['power_1'], model15.predict(features_poly15), '-')\n",
    "print(model15.coef_)"
   ]
  },
  {
   "cell_type": "markdown",
   "metadata": {
    "colab_type": "text",
    "id": "cZ-xpdVfMH6u"
   },
   "source": [
    "These curves should vary less, now that you applied a high degree of regularization.\n",
    "\n",
    "***QUIZ QUESTION:  For the models learned with the high level of regularization in each of these training sets, what are the smallest and largest values you learned for the coefficient of feature `power_1`?*** (For the purpose of answering this question, negative numbers are considered \"smaller\" than positive numbers. So -5 is smaller than -3, and -3 is smaller than 5 and so forth.)"
   ]
  },
  {
   "cell_type": "markdown",
   "metadata": {
    "colab_type": "text",
    "id": "wugqYf-MMH6w"
   },
   "source": [
    "## Selecting an L2 penalty via cross-validation"
   ]
  },
  {
   "cell_type": "markdown",
   "metadata": {
    "colab_type": "text",
    "id": "dzT-BhisMH6x"
   },
   "source": [
    "Just like the polynomial degree, the L2 penalty is a \"magic\" parameter we need to select. We could use the validation set approach as we did in the last module, but that approach has a major disadvantage: it leaves fewer observations available for training. **Cross-validation** seeks to overcome this issue by using all of the training set in a smart way.\n",
    "\n",
    "We will implement a kind of cross-validation called **k-fold cross-validation**. The method gets its name because it involves dividing the training set into k segments of roughtly equal size. Similar to the validation set method, we measure the validation error with one of the segments designated as the validation set. The major difference is that we repeat the process k times as follows:\n",
    "\n",
    "Set aside segment 0 as the validation set, and fit a model on rest of data, and evaluate it on this validation set<br>\n",
    "Set aside segment 1 as the validation set, and fit a model on rest of data, and evaluate it on this validation set<br>\n",
    "...<br>\n",
    "Set aside segment k-1 as the validation set, and fit a model on rest of data, and evaluate it on this validation set\n",
    "\n",
    "After this process, we compute the average of the k validation errors, and use it as an estimate of the generalization error. Notice that  all observations are used for both training and validation, as we iterate over segments of data. \n",
    "\n",
    "To estimate the generalization error well, it is crucial to shuffle the training data before dividing them into segments. Sklearn already have a shuffling function, so we use that."
   ]
  },
  {
   "cell_type": "code",
   "execution_count": 18,
   "metadata": {
    "colab": {},
    "colab_type": "code",
    "id": "HXnQwfyoMH61"
   },
   "outputs": [],
   "source": [
    "train_and_validation, test_data = train_test_split(full_data, train_size=0.9, test_size=0.1, random_state=1)\n",
    "train_and_validation = shuffle(train_and_validation, random_state=1)"
   ]
  },
  {
   "cell_type": "markdown",
   "metadata": {
    "colab_type": "text",
    "id": "ayYvIzSYMH66"
   },
   "source": [
    "Once the data is shuffled, we divide it into equal segments. Each segment should receive `n/k` elements, where `n` is the number of observations in the training set and `k` is the number of segments. Since the segment 0 starts at index 0 and contains `n/k` elements, it ends at index `(n/k)-1`. The segment 1 starts where the segment 0 left off, at index `(n/k)`. With `n/k` elements, the segment 1 ends at index `(n*2/k)-1`. Continuing in this fashion, we deduce that the segment `i` starts at index `(n*i/k)` and ends at `(n*(i+1)/k)-1`."
   ]
  },
  {
   "cell_type": "markdown",
   "metadata": {
    "colab_type": "text",
    "id": "RAQD4ox1MH67"
   },
   "source": [
    "With this pattern in mind, we write a short loop that prints the starting and ending indices of each segment, just to make sure you are getting the splits right."
   ]
  },
  {
   "cell_type": "code",
   "execution_count": 19,
   "metadata": {
    "colab": {},
    "colab_type": "code",
    "id": "dheyb20lMH68"
   },
   "outputs": [
    {
     "name": "stdout",
     "output_type": "stream",
     "text": [
      "0 (0, 1944)\n",
      "1 (1945, 3889)\n",
      "2 (3890, 5834)\n",
      "3 (5835, 7779)\n",
      "4 (7780, 9724)\n",
      "5 (9725, 11669)\n",
      "6 (11670, 13614)\n",
      "7 (13615, 15559)\n",
      "8 (15560, 17504)\n",
      "9 (17505, 19450)\n"
     ]
    }
   ],
   "source": [
    "n = len(train_and_validation)\n",
    "k = 10 # 10-fold cross-validation\n",
    "\n",
    "for i in range(k):\n",
    "    start = (n*i)//k\n",
    "    end = (n*(i+1))//k-1\n",
    "    print(i, (start, end))"
   ]
  },
  {
   "cell_type": "markdown",
   "metadata": {
    "colab_type": "text",
    "id": "SCWf-zc0MH7D"
   },
   "source": [
    "One of the nice things about data library in general are their ability to accept slices. To extract a continuous slice from the DataFrame, use colon in square brackets. For instance, the following cell extracts rows 0 to 9 of `train_and_validation`. Notice that the first index (0) is included in the slice but the last index (10) is omitted."
   ]
  },
  {
   "cell_type": "code",
   "execution_count": 20,
   "metadata": {
    "colab": {},
    "colab_type": "code",
    "id": "d1OlHZH9MH7E"
   },
   "outputs": [
    {
     "data": {
      "text/html": [
       "<div>\n",
       "<style scoped>\n",
       "    .dataframe tbody tr th:only-of-type {\n",
       "        vertical-align: middle;\n",
       "    }\n",
       "\n",
       "    .dataframe tbody tr th {\n",
       "        vertical-align: top;\n",
       "    }\n",
       "\n",
       "    .dataframe thead th {\n",
       "        text-align: right;\n",
       "    }\n",
       "</style>\n",
       "<table border=\"1\" class=\"dataframe\">\n",
       "  <thead>\n",
       "    <tr style=\"text-align: right;\">\n",
       "      <th></th>\n",
       "      <th>date</th>\n",
       "      <th>price</th>\n",
       "      <th>bedrooms</th>\n",
       "      <th>bathrooms</th>\n",
       "      <th>sqft_living</th>\n",
       "      <th>sqft_lot</th>\n",
       "      <th>floors</th>\n",
       "      <th>waterfront</th>\n",
       "      <th>view</th>\n",
       "      <th>condition</th>\n",
       "      <th>grade</th>\n",
       "      <th>sqft_above</th>\n",
       "      <th>sqft_basement</th>\n",
       "      <th>yr_built</th>\n",
       "      <th>yr_renovated</th>\n",
       "      <th>zipcode</th>\n",
       "      <th>lat</th>\n",
       "      <th>long</th>\n",
       "      <th>sqft_living15</th>\n",
       "      <th>sqft_lot15</th>\n",
       "    </tr>\n",
       "    <tr>\n",
       "      <th>id</th>\n",
       "      <th></th>\n",
       "      <th></th>\n",
       "      <th></th>\n",
       "      <th></th>\n",
       "      <th></th>\n",
       "      <th></th>\n",
       "      <th></th>\n",
       "      <th></th>\n",
       "      <th></th>\n",
       "      <th></th>\n",
       "      <th></th>\n",
       "      <th></th>\n",
       "      <th></th>\n",
       "      <th></th>\n",
       "      <th></th>\n",
       "      <th></th>\n",
       "      <th></th>\n",
       "      <th></th>\n",
       "      <th></th>\n",
       "      <th></th>\n",
       "    </tr>\n",
       "  </thead>\n",
       "  <tbody>\n",
       "    <tr>\n",
       "      <th>6123600285</th>\n",
       "      <td>20141107T000000</td>\n",
       "      <td>185000.0</td>\n",
       "      <td>3</td>\n",
       "      <td>1.50</td>\n",
       "      <td>1010</td>\n",
       "      <td>7755</td>\n",
       "      <td>1.0</td>\n",
       "      <td>0</td>\n",
       "      <td>0</td>\n",
       "      <td>3</td>\n",
       "      <td>6</td>\n",
       "      <td>1010</td>\n",
       "      <td>0</td>\n",
       "      <td>1953</td>\n",
       "      <td>0</td>\n",
       "      <td>98148</td>\n",
       "      <td>47.4238</td>\n",
       "      <td>-122.332</td>\n",
       "      <td>1270</td>\n",
       "      <td>8350</td>\n",
       "    </tr>\n",
       "    <tr>\n",
       "      <th>3323059027</th>\n",
       "      <td>20140528T000000</td>\n",
       "      <td>326000.0</td>\n",
       "      <td>3</td>\n",
       "      <td>2.75</td>\n",
       "      <td>1720</td>\n",
       "      <td>28000</td>\n",
       "      <td>1.0</td>\n",
       "      <td>0</td>\n",
       "      <td>0</td>\n",
       "      <td>4</td>\n",
       "      <td>7</td>\n",
       "      <td>1720</td>\n",
       "      <td>0</td>\n",
       "      <td>1958</td>\n",
       "      <td>0</td>\n",
       "      <td>98058</td>\n",
       "      <td>47.4375</td>\n",
       "      <td>-122.176</td>\n",
       "      <td>2000</td>\n",
       "      <td>41817</td>\n",
       "    </tr>\n",
       "    <tr>\n",
       "      <th>5316100920</th>\n",
       "      <td>20140725T000000</td>\n",
       "      <td>2250000.0</td>\n",
       "      <td>3</td>\n",
       "      <td>4.25</td>\n",
       "      <td>5150</td>\n",
       "      <td>7800</td>\n",
       "      <td>2.5</td>\n",
       "      <td>0</td>\n",
       "      <td>2</td>\n",
       "      <td>3</td>\n",
       "      <td>11</td>\n",
       "      <td>4170</td>\n",
       "      <td>980</td>\n",
       "      <td>1954</td>\n",
       "      <td>0</td>\n",
       "      <td>98112</td>\n",
       "      <td>47.6288</td>\n",
       "      <td>-122.282</td>\n",
       "      <td>4270</td>\n",
       "      <td>7800</td>\n",
       "    </tr>\n",
       "    <tr>\n",
       "      <th>4315700175</th>\n",
       "      <td>20140612T000000</td>\n",
       "      <td>440000.0</td>\n",
       "      <td>3</td>\n",
       "      <td>1.00</td>\n",
       "      <td>1210</td>\n",
       "      <td>5750</td>\n",
       "      <td>1.5</td>\n",
       "      <td>0</td>\n",
       "      <td>0</td>\n",
       "      <td>4</td>\n",
       "      <td>7</td>\n",
       "      <td>1210</td>\n",
       "      <td>0</td>\n",
       "      <td>1910</td>\n",
       "      <td>0</td>\n",
       "      <td>98136</td>\n",
       "      <td>47.5403</td>\n",
       "      <td>-122.391</td>\n",
       "      <td>1160</td>\n",
       "      <td>5000</td>\n",
       "    </tr>\n",
       "    <tr>\n",
       "      <th>303000445</th>\n",
       "      <td>20140523T000000</td>\n",
       "      <td>175000.0</td>\n",
       "      <td>2</td>\n",
       "      <td>1.00</td>\n",
       "      <td>1300</td>\n",
       "      <td>44431</td>\n",
       "      <td>1.0</td>\n",
       "      <td>0</td>\n",
       "      <td>0</td>\n",
       "      <td>5</td>\n",
       "      <td>6</td>\n",
       "      <td>1300</td>\n",
       "      <td>0</td>\n",
       "      <td>1958</td>\n",
       "      <td>0</td>\n",
       "      <td>98001</td>\n",
       "      <td>47.3270</td>\n",
       "      <td>-122.267</td>\n",
       "      <td>1470</td>\n",
       "      <td>14850</td>\n",
       "    </tr>\n",
       "    <tr>\n",
       "      <th>2130410050</th>\n",
       "      <td>20140513T000000</td>\n",
       "      <td>287000.0</td>\n",
       "      <td>3</td>\n",
       "      <td>2.25</td>\n",
       "      <td>1490</td>\n",
       "      <td>9600</td>\n",
       "      <td>1.0</td>\n",
       "      <td>0</td>\n",
       "      <td>0</td>\n",
       "      <td>4</td>\n",
       "      <td>7</td>\n",
       "      <td>1170</td>\n",
       "      <td>320</td>\n",
       "      <td>1987</td>\n",
       "      <td>0</td>\n",
       "      <td>98019</td>\n",
       "      <td>47.7378</td>\n",
       "      <td>-121.977</td>\n",
       "      <td>1590</td>\n",
       "      <td>10104</td>\n",
       "    </tr>\n",
       "    <tr>\n",
       "      <th>7972601885</th>\n",
       "      <td>20150430T000000</td>\n",
       "      <td>350000.0</td>\n",
       "      <td>5</td>\n",
       "      <td>1.75</td>\n",
       "      <td>1380</td>\n",
       "      <td>7620</td>\n",
       "      <td>1.0</td>\n",
       "      <td>0</td>\n",
       "      <td>0</td>\n",
       "      <td>3</td>\n",
       "      <td>7</td>\n",
       "      <td>1180</td>\n",
       "      <td>200</td>\n",
       "      <td>1955</td>\n",
       "      <td>0</td>\n",
       "      <td>98106</td>\n",
       "      <td>47.5279</td>\n",
       "      <td>-122.345</td>\n",
       "      <td>1990</td>\n",
       "      <td>7620</td>\n",
       "    </tr>\n",
       "    <tr>\n",
       "      <th>3362400511</th>\n",
       "      <td>20150304T000000</td>\n",
       "      <td>570000.0</td>\n",
       "      <td>3</td>\n",
       "      <td>1.75</td>\n",
       "      <td>1260</td>\n",
       "      <td>3328</td>\n",
       "      <td>1.0</td>\n",
       "      <td>0</td>\n",
       "      <td>0</td>\n",
       "      <td>5</td>\n",
       "      <td>6</td>\n",
       "      <td>700</td>\n",
       "      <td>560</td>\n",
       "      <td>1905</td>\n",
       "      <td>0</td>\n",
       "      <td>98103</td>\n",
       "      <td>47.6823</td>\n",
       "      <td>-122.349</td>\n",
       "      <td>1380</td>\n",
       "      <td>3536</td>\n",
       "    </tr>\n",
       "    <tr>\n",
       "      <th>7889600190</th>\n",
       "      <td>20150113T000000</td>\n",
       "      <td>229000.0</td>\n",
       "      <td>3</td>\n",
       "      <td>1.00</td>\n",
       "      <td>1590</td>\n",
       "      <td>6240</td>\n",
       "      <td>1.0</td>\n",
       "      <td>0</td>\n",
       "      <td>0</td>\n",
       "      <td>3</td>\n",
       "      <td>7</td>\n",
       "      <td>1060</td>\n",
       "      <td>530</td>\n",
       "      <td>1956</td>\n",
       "      <td>0</td>\n",
       "      <td>98146</td>\n",
       "      <td>47.4936</td>\n",
       "      <td>-122.337</td>\n",
       "      <td>1410</td>\n",
       "      <td>6240</td>\n",
       "    </tr>\n",
       "    <tr>\n",
       "      <th>452002135</th>\n",
       "      <td>20150422T000000</td>\n",
       "      <td>1070000.0</td>\n",
       "      <td>4</td>\n",
       "      <td>2.50</td>\n",
       "      <td>2740</td>\n",
       "      <td>5000</td>\n",
       "      <td>2.0</td>\n",
       "      <td>0</td>\n",
       "      <td>0</td>\n",
       "      <td>3</td>\n",
       "      <td>9</td>\n",
       "      <td>2740</td>\n",
       "      <td>0</td>\n",
       "      <td>2012</td>\n",
       "      <td>0</td>\n",
       "      <td>98107</td>\n",
       "      <td>47.6740</td>\n",
       "      <td>-122.371</td>\n",
       "      <td>1660</td>\n",
       "      <td>5000</td>\n",
       "    </tr>\n",
       "  </tbody>\n",
       "</table>\n",
       "</div>"
      ],
      "text/plain": [
       "                       date      price  bedrooms  bathrooms  sqft_living  \\\n",
       "id                                                                         \n",
       "6123600285  20141107T000000   185000.0         3       1.50         1010   \n",
       "3323059027  20140528T000000   326000.0         3       2.75         1720   \n",
       "5316100920  20140725T000000  2250000.0         3       4.25         5150   \n",
       "4315700175  20140612T000000   440000.0         3       1.00         1210   \n",
       "303000445   20140523T000000   175000.0         2       1.00         1300   \n",
       "2130410050  20140513T000000   287000.0         3       2.25         1490   \n",
       "7972601885  20150430T000000   350000.0         5       1.75         1380   \n",
       "3362400511  20150304T000000   570000.0         3       1.75         1260   \n",
       "7889600190  20150113T000000   229000.0         3       1.00         1590   \n",
       "452002135   20150422T000000  1070000.0         4       2.50         2740   \n",
       "\n",
       "            sqft_lot  floors  waterfront  view  condition  grade  sqft_above  \\\n",
       "id                                                                             \n",
       "6123600285      7755     1.0           0     0          3      6        1010   \n",
       "3323059027     28000     1.0           0     0          4      7        1720   \n",
       "5316100920      7800     2.5           0     2          3     11        4170   \n",
       "4315700175      5750     1.5           0     0          4      7        1210   \n",
       "303000445      44431     1.0           0     0          5      6        1300   \n",
       "2130410050      9600     1.0           0     0          4      7        1170   \n",
       "7972601885      7620     1.0           0     0          3      7        1180   \n",
       "3362400511      3328     1.0           0     0          5      6         700   \n",
       "7889600190      6240     1.0           0     0          3      7        1060   \n",
       "452002135       5000     2.0           0     0          3      9        2740   \n",
       "\n",
       "            sqft_basement  yr_built  yr_renovated  zipcode      lat     long  \\\n",
       "id                                                                             \n",
       "6123600285              0      1953             0    98148  47.4238 -122.332   \n",
       "3323059027              0      1958             0    98058  47.4375 -122.176   \n",
       "5316100920            980      1954             0    98112  47.6288 -122.282   \n",
       "4315700175              0      1910             0    98136  47.5403 -122.391   \n",
       "303000445               0      1958             0    98001  47.3270 -122.267   \n",
       "2130410050            320      1987             0    98019  47.7378 -121.977   \n",
       "7972601885            200      1955             0    98106  47.5279 -122.345   \n",
       "3362400511            560      1905             0    98103  47.6823 -122.349   \n",
       "7889600190            530      1956             0    98146  47.4936 -122.337   \n",
       "452002135               0      2012             0    98107  47.6740 -122.371   \n",
       "\n",
       "            sqft_living15  sqft_lot15  \n",
       "id                                     \n",
       "6123600285           1270        8350  \n",
       "3323059027           2000       41817  \n",
       "5316100920           4270        7800  \n",
       "4315700175           1160        5000  \n",
       "303000445            1470       14850  \n",
       "2130410050           1590       10104  \n",
       "7972601885           1990        7620  \n",
       "3362400511           1380        3536  \n",
       "7889600190           1410        6240  \n",
       "452002135            1660        5000  "
      ]
     },
     "execution_count": 20,
     "metadata": {},
     "output_type": "execute_result"
    }
   ],
   "source": [
    "train_and_validation[0:10] # rows 0 to 9"
   ]
  },
  {
   "cell_type": "markdown",
   "metadata": {
    "colab_type": "text",
    "id": "BVejNgM7MH7K"
   },
   "source": [
    "Now let us extract individual segments with array slicing. Consider the scenario where we group the houses in the `train_and_validation` dataframe into k=10 segments of roughly equal size, with starting and ending indices computed as above.\n",
    "Extract the fourth segment (segment 3) and assign it to a variable called `validation4`."
   ]
  },
  {
   "cell_type": "code",
   "execution_count": 21,
   "metadata": {
    "colab": {},
    "colab_type": "code",
    "id": "rEYQLIo3MH7L"
   },
   "outputs": [],
   "source": [
    "validation4 = train_and_validation[5835:7779]"
   ]
  },
  {
   "cell_type": "markdown",
   "metadata": {
    "colab_type": "text",
    "id": "rpbBFCx5MH7R"
   },
   "source": [
    "To verify that we have the right elements extracted, run the following cell, which computes the average price of the fourth segment. When rounded to nearest whole number, the average should be $544,330."
   ]
  },
  {
   "cell_type": "code",
   "execution_count": 22,
   "metadata": {
    "colab": {},
    "colab_type": "code",
    "id": "PkXCYyxYMH7T"
   },
   "outputs": [
    {
     "name": "stdout",
     "output_type": "stream",
     "text": [
      "545311.0\n"
     ]
    }
   ],
   "source": [
    "print( round(validation4['price'].mean(), 0) )"
   ]
  },
  {
   "cell_type": "markdown",
   "metadata": {
    "colab_type": "text",
    "id": "ZJPG1EaHMH7Y"
   },
   "source": [
    "After designating one of the k segments as the validation set, we train a model using the rest of the data. To choose the remainder, we slice (0:start) and (end+1:n) of the data and paste them together. DataFrame has `append()` method that pastes together two disjoint sets of rows originating from a common dataset. For instance, the following cell pastes together the first and last two rows of the `train_and_validation` dataframe."
   ]
  },
  {
   "cell_type": "code",
   "execution_count": 23,
   "metadata": {
    "colab": {},
    "colab_type": "code",
    "id": "qao1cWIWMH7a"
   },
   "outputs": [
    {
     "name": "stdout",
     "output_type": "stream",
     "text": [
      "                       date      price  bedrooms  bathrooms  sqft_living  \\\n",
      "id                                                                         \n",
      "6123600285  20141107T000000   185000.0         3       1.50         1010   \n",
      "3323059027  20140528T000000   326000.0         3       2.75         1720   \n",
      "6151800612  20150107T000000   162000.0         4       1.00         1460   \n",
      "1088100450  20140725T000000  1720000.0         5       4.00         4590   \n",
      "\n",
      "            sqft_lot  floors  waterfront  view  condition  grade  sqft_above  \\\n",
      "id                                                                             \n",
      "6123600285      7755     1.0           0     0          3      6        1010   \n",
      "3323059027     28000     1.0           0     0          4      7        1720   \n",
      "6151800612     16638     1.0           0     0          4      6        1460   \n",
      "1088100450     35046     2.0           0     0          3     10        4590   \n",
      "\n",
      "            sqft_basement  yr_built  yr_renovated  zipcode      lat     long  \\\n",
      "id                                                                             \n",
      "6123600285              0      1953             0    98148  47.4238 -122.332   \n",
      "3323059027              0      1958             0    98058  47.4375 -122.176   \n",
      "6151800612              0      1975             0    98010  47.3431 -122.048   \n",
      "1088100450              0      2008             0    98033  47.6647 -122.160   \n",
      "\n",
      "            sqft_living15  sqft_lot15  \n",
      "id                                     \n",
      "6123600285           1270        8350  \n",
      "3323059027           2000       41817  \n",
      "6151800612           1460       16638  \n",
      "1088100450           3350       35857  \n"
     ]
    }
   ],
   "source": [
    "n = len(train_and_validation)\n",
    "first_two = train_and_validation[0:2]\n",
    "last_two = train_and_validation[n-2:n]\n",
    "print(first_two.append(last_two))"
   ]
  },
  {
   "cell_type": "markdown",
   "metadata": {
    "colab_type": "text",
    "id": "PcQb83MxMH7f"
   },
   "source": [
    "Extract the remainder of the data after *excluding* fourth segment (segment 3) and assign the subset to `train4`."
   ]
  },
  {
   "cell_type": "code",
   "execution_count": 24,
   "metadata": {
    "colab": {},
    "colab_type": "code",
    "id": "NHBeNdXNMH7i"
   },
   "outputs": [],
   "source": [
    "# time to use your brain. Where do the fourth segment start and end? What do .append do?\n",
    "train4 = train_and_validation[0:5834].append(train_and_validation[7780:])"
   ]
  },
  {
   "cell_type": "markdown",
   "metadata": {
    "colab_type": "text",
    "id": "9gwRZPGKMH7o"
   },
   "source": [
    "To verify that we have the right elements extracted, run the following cell, which computes the average price of the data with fourth segment excluded. When rounded to nearest whole number, the average should be $540,120."
   ]
  },
  {
   "cell_type": "code",
   "execution_count": 25,
   "metadata": {
    "colab": {},
    "colab_type": "code",
    "id": "bzsyZHH6MH7s"
   },
   "outputs": [
    {
     "name": "stdout",
     "output_type": "stream",
     "text": [
      "540134.0\n"
     ]
    }
   ],
   "source": [
    "print( round(train4['price'].mean(), 0) )"
   ]
  },
  {
   "cell_type": "markdown",
   "metadata": {
    "colab_type": "text",
    "id": "JHkgU6KyMH7x"
   },
   "source": [
    "Now we are ready to implement k-fold cross-validation. Write a function that computes k validation errors by designating each of the k segments as the validation set. It accepts as parameters (i) `k`, (ii) `l2_penalty`, (iii) dataframe, (iv) name of output column (e.g. `price`) and (v) list of feature names. The function returns the average validation error using k segments as validation sets.\n",
    "\n",
    "* For each i in [0, 1, ..., k-1]:\n",
    "  * Compute starting and ending indices of segment i and call 'start' and 'end'\n",
    "  * Form validation set by taking a slice (start:end+1) from the data.\n",
    "  * Form training set by appending slice (end+1:n) to the end of slice (0:start).\n",
    "  * Train a linear model using training set just formed, with a given l2_penalty\n",
    "  * Compute validation error using validation set just formed\n",
    "\n",
    "Also, sklearn have an inbuilt `mean_squared_error` function."
   ]
  },
  {
   "cell_type": "code",
   "execution_count": 26,
   "metadata": {},
   "outputs": [],
   "source": [
    "scaler = StandardScaler()\n",
    "poly15_data = polynomial_dataframe(set_4['sqft_living'], 15) # create polynomial up to 2 degree\n",
    "features_poly15 = scaler.fit_transform(poly15_data.values)"
   ]
  },
  {
   "cell_type": "code",
   "execution_count": 27,
   "metadata": {
    "colab": {},
    "colab_type": "code",
    "id": "mYbI8bmyMH7z"
   },
   "outputs": [],
   "source": [
    "def k_fold_cross_validation(k, l2_penalty, data, output_name, features_list):\n",
    "    # implement the function.\n",
    "    errors = []\n",
    "    for i in range(k):\n",
    "        scaler = StandardScaler()\n",
    "        start = (n*i)//k\n",
    "        end = (n*(i+1))//k-1\n",
    "        validation_k = data[start:end]\n",
    "        train_k = data[:start-1].append(data[end+1:])\n",
    "        features = scaler.fit_transform(train_k[features_list].values)\n",
    "        labels = train_k[output_name]\n",
    "        model = Ridge(alpha=l2_penalty).fit(features, labels)\n",
    "\n",
    "        features_valid = scaler.transform(validation_k[features_list].values)\n",
    "        laebls_valid = validation_k[output_name]\n",
    "        preds = model.predict(features_valid)\n",
    "        error = mean_squared_error(laebls_valid, preds)\n",
    "        errors.append(error)\n",
    "    return np.mean(errors)"
   ]
  },
  {
   "cell_type": "markdown",
   "metadata": {
    "colab_type": "text",
    "id": "Zr2zhJrTMH75"
   },
   "source": [
    "Once we have a function to compute the average validation error for a model, we can write a loop to find the model that minimizes the average validation error. Write a loop that does the following:\n",
    "* We will again be aiming to fit a 15th-order polynomial model using the `sqft_living` input\n",
    "* For `l2_penalty` in [10^0, 10^0.5, 10^1, 10^1.5, ..., 10^2] (to get this in Python, you can use this Numpy function: `np.logspace(0, 10, num=21)`.)\n",
    "    * Run 10-fold cross-validation with `l2_penalty`\n",
    "* Report which L2 penalty produced the lowest average validation error.\n",
    "\n",
    "Note: since the degree of the polynomial is now fixed to 15, to make things faster, you should generate polynomial features in advance and re-use them throughout the loop. Make sure to use `train_and_validation` when generating polynomial features!\n",
    "\n",
    "If you are seeing two much reds from `scipy.linalg.solve`, import `warnings` and use `warnings.filterwarnings('ignore')`. Not best practice, but useful. Once you are done, set `warnings.resetwarnings()` to turn it back to normal."
   ]
  },
  {
   "cell_type": "code",
   "execution_count": 28,
   "metadata": {
    "colab": {},
    "colab_type": "code",
    "id": "yydEZVn_MH77"
   },
   "outputs": [],
   "source": [
    "# Best practice vs your eyes.\n",
    "poly15_data = polynomial_dataframe(train_and_validation['sqft_living'], 15)\n",
    "poly15_data['price'] = train_and_validation['price']\n",
    "poly15_data_test = polynomial_dataframe(test_data['sqft_living'], 15)\n",
    "poly15_data_test['price'] = test_data['price']"
   ]
  },
  {
   "cell_type": "code",
   "execution_count": 29,
   "metadata": {},
   "outputs": [],
   "source": [
    "valid_errors = []\n",
    "for l2_penalty in list(np.logspace(0, 10, num=21)):\n",
    "    mean_error = k_fold_cross_validation(10, l2_penalty, poly15_data, 'price', ['power_' + str(i) for i in range(1, 16)])\n",
    "    valid_errors.append(mean_error)"
   ]
  },
  {
   "cell_type": "code",
   "execution_count": 30,
   "metadata": {},
   "outputs": [
    {
     "data": {
      "text/plain": [
       "3162.2776601683795"
      ]
     },
     "execution_count": 30,
     "metadata": {},
     "output_type": "execute_result"
    }
   ],
   "source": [
    "best_l2_penalty = list(np.logspace(0, 10, num=21))[np.argmin(valid_errors)]\n",
    "best_l2_penalty"
   ]
  },
  {
   "cell_type": "markdown",
   "metadata": {
    "colab_type": "text",
    "id": "HtOYofhRMH8G"
   },
   "source": [
    "***QUIZ QUESTIONS:  What is the best value for the L2 penalty according to 10-fold validation?***"
   ]
  },
  {
   "cell_type": "markdown",
   "metadata": {
    "colab_type": "text",
    "id": "7_Ii1d_YMH8I"
   },
   "source": [
    "You may find it useful to plot the k-fold cross-validation errors you have obtained to better understand the behavior of the method. Also you can use `plt.xscale('log')` for an intuitive plot. [Quitter.](https://xkcd.com/1162/)"
   ]
  },
  {
   "cell_type": "code",
   "execution_count": 31,
   "metadata": {
    "colab": {},
    "colab_type": "code",
    "id": "KxPQK30CMH8L"
   },
   "outputs": [
    {
     "data": {
      "image/png": "[encoded data removed]",
      "text/plain": [
       "<Figure size 432x288 with 1 Axes>"
      ]
     },
     "metadata": {
      "needs_background": "light"
     },
     "output_type": "display_data"
    }
   ],
   "source": [
    "# Plot the l2_penalty values(maybe in log) in the x axis and the cross-validation error in the y axis. \n",
    "plt.plot([np.log(x) for x in list(np.logspace(0, 10, num=21))], valid_errors)\n",
    "plt.show()"
   ]
  },
  {
   "cell_type": "markdown",
   "metadata": {
    "colab_type": "text",
    "id": "J7ZjNm7DMH8T"
   },
   "source": [
    "Once you found the best value for the L2 penalty using cross-validation, it is important to retrain a final model on all of the training data using this value of `l2_penalty`. This way, your final model will be trained on the entire dataset."
   ]
  },
  {
   "cell_type": "code",
   "execution_count": 32,
   "metadata": {
    "colab": {},
    "colab_type": "code",
    "id": "yfsV8RKWMH8V"
   },
   "outputs": [],
   "source": [
    "scaler = StandardScaler()\n",
    "poly15_data = polynomial_dataframe(train_and_validation['sqft_living'], 15) # create polynomial up to 2 degree\n",
    "features_poly15 = scaler.fit_transform(poly15_data.values) # extract the features immediately\n",
    "poly15_data['price'] = train_and_validation['price']\n",
    "labels_poly15 = poly15_data['price'].values # receive the labels\n",
    "\n",
    "model15 = Ridge(alpha=best_l2_penalty).fit(features_poly15, labels_poly15)"
   ]
  },
  {
   "cell_type": "code",
   "execution_count": 33,
   "metadata": {},
   "outputs": [
    {
     "name": "stdout",
     "output_type": "stream",
     "text": [
      "66138906525.14995\n"
     ]
    }
   ],
   "source": [
    "features_test = scaler.transform(poly15_data_test[['power_' + str(i) for i in range(1, 16)]].values)\n",
    "laebls_test = poly15_data_test['price']\n",
    "preds = model.predict(features_test)\n",
    "error = mean_squared_error(laebls_test, preds)\n",
    "print(error)"
   ]
  },
  {
   "cell_type": "markdown",
   "metadata": {
    "colab_type": "text",
    "id": "0CdIGVRRMH8b"
   },
   "source": [
    "***QUIZ QUESTION: Using the best L2 penalty found above, train a model using all training data. What is the RSS on the TEST data of the model you learn with this L2 penalty? ***"
   ]
  }
 ],
 "metadata": {
  "colab": {
   "collapsed_sections": [],
   "name": "lab-4.ipynb",
   "provenance": []
  },
  "kernelspec": {
   "display_name": "Python 3",
   "language": "python",
   "name": "python3"
  },
  "language_info": {
   "codemirror_mode": {
    "name": "ipython",
    "version": 3
   },
   "file_extension": ".py",
   "mimetype": "text/x-python",
   "name": "python",
   "nbconvert_exporter": "python",
   "pygments_lexer": "ipython3",
   "version": "3.7.6"
  }
 },
 "nbformat": 4,
 "nbformat_minor": 1
}
